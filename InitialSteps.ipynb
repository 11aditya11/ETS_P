{
 "cells": [
  {
   "cell_type": "code",
   "execution_count": 1,
   "metadata": {},
   "outputs": [],
   "source": [
    "import pandas as pd\n",
    "import matplotlib.pyplot as plt\n",
    "%matplotlib inline"
   ]
  },
  {
   "cell_type": "code",
   "execution_count": 2,
   "metadata": {},
   "outputs": [
    {
     "data": {
      "text/html": [
       "<div>\n",
       "<style scoped>\n",
       "    .dataframe tbody tr th:only-of-type {\n",
       "        vertical-align: middle;\n",
       "    }\n",
       "\n",
       "    .dataframe tbody tr th {\n",
       "        vertical-align: top;\n",
       "    }\n",
       "\n",
       "    .dataframe thead th {\n",
       "        text-align: right;\n",
       "    }\n",
       "</style>\n",
       "<table border=\"1\" class=\"dataframe\">\n",
       "  <thead>\n",
       "    <tr style=\"text-align: right;\">\n",
       "      <th></th>\n",
       "      <th>time</th>\n",
       "      <th>latitude</th>\n",
       "      <th>longitude</th>\n",
       "      <th>depth</th>\n",
       "      <th>mag</th>\n",
       "      <th>magType</th>\n",
       "      <th>nst</th>\n",
       "      <th>gap</th>\n",
       "      <th>dmin</th>\n",
       "      <th>rms</th>\n",
       "      <th>...</th>\n",
       "      <th>updated</th>\n",
       "      <th>place</th>\n",
       "      <th>type</th>\n",
       "      <th>horizontalError</th>\n",
       "      <th>depthError</th>\n",
       "      <th>magError</th>\n",
       "      <th>magNst</th>\n",
       "      <th>status</th>\n",
       "      <th>locationSource</th>\n",
       "      <th>magSource</th>\n",
       "    </tr>\n",
       "  </thead>\n",
       "  <tbody>\n",
       "    <tr>\n",
       "      <td>0</td>\n",
       "      <td>2019-10-08T05:58:13.920Z</td>\n",
       "      <td>33.552833</td>\n",
       "      <td>-116.650500</td>\n",
       "      <td>9.290000</td>\n",
       "      <td>0.32</td>\n",
       "      <td>ml</td>\n",
       "      <td>18.0</td>\n",
       "      <td>58.000000</td>\n",
       "      <td>0.062710</td>\n",
       "      <td>0.120000</td>\n",
       "      <td>...</td>\n",
       "      <td>2019-10-08T06:01:49.281Z</td>\n",
       "      <td>2km E of Anza, CA</td>\n",
       "      <td>earthquake</td>\n",
       "      <td>0.260000</td>\n",
       "      <td>0.48000</td>\n",
       "      <td>0.106</td>\n",
       "      <td>11.0</td>\n",
       "      <td>automatic</td>\n",
       "      <td>ci</td>\n",
       "      <td>ci</td>\n",
       "    </tr>\n",
       "    <tr>\n",
       "      <td>1</td>\n",
       "      <td>2019-10-08T05:46:53.490Z</td>\n",
       "      <td>35.922333</td>\n",
       "      <td>-117.761000</td>\n",
       "      <td>8.630000</td>\n",
       "      <td>1.18</td>\n",
       "      <td>ml</td>\n",
       "      <td>20.0</td>\n",
       "      <td>56.000000</td>\n",
       "      <td>0.053340</td>\n",
       "      <td>0.120000</td>\n",
       "      <td>...</td>\n",
       "      <td>2019-10-08T05:50:30.215Z</td>\n",
       "      <td>13km E of Little Lake, CA</td>\n",
       "      <td>earthquake</td>\n",
       "      <td>0.200000</td>\n",
       "      <td>0.62000</td>\n",
       "      <td>0.212</td>\n",
       "      <td>19.0</td>\n",
       "      <td>automatic</td>\n",
       "      <td>ci</td>\n",
       "      <td>ci</td>\n",
       "    </tr>\n",
       "    <tr>\n",
       "      <td>2</td>\n",
       "      <td>2019-10-08T05:45:22.856Z</td>\n",
       "      <td>36.277149</td>\n",
       "      <td>-97.628830</td>\n",
       "      <td>3.245147</td>\n",
       "      <td>1.75</td>\n",
       "      <td>ml</td>\n",
       "      <td>34.0</td>\n",
       "      <td>43.586679</td>\n",
       "      <td>0.232924</td>\n",
       "      <td>0.434243</td>\n",
       "      <td>...</td>\n",
       "      <td>2019-10-08T05:47:40.272Z</td>\n",
       "      <td>24km E of Waukomis, Oklahoma</td>\n",
       "      <td>earthquake</td>\n",
       "      <td>1.966603</td>\n",
       "      <td>1.81894</td>\n",
       "      <td>NaN</td>\n",
       "      <td>25.0</td>\n",
       "      <td>automatic</td>\n",
       "      <td>ok</td>\n",
       "      <td>ok</td>\n",
       "    </tr>\n",
       "    <tr>\n",
       "      <td>3</td>\n",
       "      <td>2019-10-08T05:43:01.370Z</td>\n",
       "      <td>35.831000</td>\n",
       "      <td>-117.700667</td>\n",
       "      <td>9.980000</td>\n",
       "      <td>0.75</td>\n",
       "      <td>ml</td>\n",
       "      <td>15.0</td>\n",
       "      <td>63.000000</td>\n",
       "      <td>0.056790</td>\n",
       "      <td>0.190000</td>\n",
       "      <td>...</td>\n",
       "      <td>2019-10-08T05:46:43.194Z</td>\n",
       "      <td>22km ESE of Little Lake, CA</td>\n",
       "      <td>earthquake</td>\n",
       "      <td>0.430000</td>\n",
       "      <td>0.95000</td>\n",
       "      <td>0.272</td>\n",
       "      <td>9.0</td>\n",
       "      <td>automatic</td>\n",
       "      <td>ci</td>\n",
       "      <td>ci</td>\n",
       "    </tr>\n",
       "    <tr>\n",
       "      <td>4</td>\n",
       "      <td>2019-10-08T05:40:49.730Z</td>\n",
       "      <td>33.550833</td>\n",
       "      <td>-116.409167</td>\n",
       "      <td>8.830000</td>\n",
       "      <td>2.34</td>\n",
       "      <td>ml</td>\n",
       "      <td>88.0</td>\n",
       "      <td>33.000000</td>\n",
       "      <td>0.030650</td>\n",
       "      <td>0.190000</td>\n",
       "      <td>...</td>\n",
       "      <td>2019-10-08T06:07:53.817Z</td>\n",
       "      <td>16km SW of La Quinta, CA</td>\n",
       "      <td>earthquake</td>\n",
       "      <td>0.160000</td>\n",
       "      <td>0.38000</td>\n",
       "      <td>0.270</td>\n",
       "      <td>25.0</td>\n",
       "      <td>automatic</td>\n",
       "      <td>ci</td>\n",
       "      <td>ci</td>\n",
       "    </tr>\n",
       "  </tbody>\n",
       "</table>\n",
       "<p>5 rows × 22 columns</p>\n",
       "</div>"
      ],
      "text/plain": [
       "                       time   latitude   longitude     depth   mag magType  \\\n",
       "0  2019-10-08T05:58:13.920Z  33.552833 -116.650500  9.290000  0.32      ml   \n",
       "1  2019-10-08T05:46:53.490Z  35.922333 -117.761000  8.630000  1.18      ml   \n",
       "2  2019-10-08T05:45:22.856Z  36.277149  -97.628830  3.245147  1.75      ml   \n",
       "3  2019-10-08T05:43:01.370Z  35.831000 -117.700667  9.980000  0.75      ml   \n",
       "4  2019-10-08T05:40:49.730Z  33.550833 -116.409167  8.830000  2.34      ml   \n",
       "\n",
       "    nst        gap      dmin       rms  ...                   updated  \\\n",
       "0  18.0  58.000000  0.062710  0.120000  ...  2019-10-08T06:01:49.281Z   \n",
       "1  20.0  56.000000  0.053340  0.120000  ...  2019-10-08T05:50:30.215Z   \n",
       "2  34.0  43.586679  0.232924  0.434243  ...  2019-10-08T05:47:40.272Z   \n",
       "3  15.0  63.000000  0.056790  0.190000  ...  2019-10-08T05:46:43.194Z   \n",
       "4  88.0  33.000000  0.030650  0.190000  ...  2019-10-08T06:07:53.817Z   \n",
       "\n",
       "                          place        type horizontalError depthError  \\\n",
       "0             2km E of Anza, CA  earthquake        0.260000    0.48000   \n",
       "1     13km E of Little Lake, CA  earthquake        0.200000    0.62000   \n",
       "2  24km E of Waukomis, Oklahoma  earthquake        1.966603    1.81894   \n",
       "3   22km ESE of Little Lake, CA  earthquake        0.430000    0.95000   \n",
       "4      16km SW of La Quinta, CA  earthquake        0.160000    0.38000   \n",
       "\n",
       "   magError  magNst     status  locationSource magSource  \n",
       "0     0.106    11.0  automatic              ci        ci  \n",
       "1     0.212    19.0  automatic              ci        ci  \n",
       "2       NaN    25.0  automatic              ok        ok  \n",
       "3     0.272     9.0  automatic              ci        ci  \n",
       "4     0.270    25.0  automatic              ci        ci  \n",
       "\n",
       "[5 rows x 22 columns]"
      ]
     },
     "execution_count": 2,
     "metadata": {},
     "output_type": "execute_result"
    }
   ],
   "source": [
    "eqdf = pd.read_csv('https://earthquake.usgs.gov/earthquakes/feed/v1.0/summary/all_hour.csv')\n",
    "eqdf.head()"
   ]
  },
  {
   "cell_type": "code",
   "execution_count": 3,
   "metadata": {},
   "outputs": [
    {
     "data": {
      "text/plain": [
       "Index(['time', 'latitude', 'longitude', 'depth', 'mag', 'magType', 'nst',\n",
       "       'gap', 'dmin', 'rms', 'net', 'id', 'updated', 'place', 'type',\n",
       "       'horizontalError', 'depthError', 'magError', 'magNst', 'status',\n",
       "       'locationSource', 'magSource'],\n",
       "      dtype='object')"
      ]
     },
     "execution_count": 3,
     "metadata": {},
     "output_type": "execute_result"
    }
   ],
   "source": [
    "eqdf.columns"
   ]
  },
  {
   "cell_type": "code",
   "execution_count": 4,
   "metadata": {},
   "outputs": [],
   "source": [
    "eqdf = eqdf[eqdf['mag'] > 1]"
   ]
  },
  {
   "cell_type": "code",
   "execution_count": 5,
   "metadata": {},
   "outputs": [
    {
     "data": {
      "image/png": "[encoded data removed]",
      "text/plain": [
       "<Figure size 432x288 with 1 Axes>"
      ]
     },
     "metadata": {},
     "output_type": "display_data"
    }
   ],
   "source": [
    "eqdf['magType'].value_counts().plot(kind='pie')\n",
    "plt.show()"
   ]
  },
  {
   "cell_type": "code",
   "execution_count": 6,
   "metadata": {},
   "outputs": [
    {
     "data": {
      "text/plain": [
       "<matplotlib.axes._subplots.AxesSubplot at 0x7f806411ce50>"
      ]
     },
     "execution_count": 6,
     "metadata": {},
     "output_type": "execute_result"
    },
    {
     "data": {
      "image/png": "[encoded data removed]",
      "text/plain": [
       "<Figure size 432x288 with 1 Axes>"
      ]
     },
     "metadata": {},
     "output_type": "display_data"
    }
   ],
   "source": [
    "eqdf['locationSource'].value_counts().plot(kind='pie')"
   ]
  },
  {
   "cell_type": "code",
   "execution_count": 7,
   "metadata": {},
   "outputs": [
    {
     "data": {
      "text/plain": [
       "<matplotlib.axes._subplots.AxesSubplot at 0x7f8064078650>"
      ]
     },
     "execution_count": 7,
     "metadata": {},
     "output_type": "execute_result"
    },
    {
     "data": {
      "image/png": "[encoded data removed]",
      "text/plain": [
       "<Figure size 432x288 with 1 Axes>"
      ]
     },
     "metadata": {},
     "output_type": "display_data"
    }
   ],
   "source": [
    "eqdf['magSource'].value_counts().plot(kind='pie')"
   ]
  },
  {
   "cell_type": "code",
   "execution_count": 9,
   "metadata": {},
   "outputs": [
    {
     "data": {
      "text/plain": [
       "['13km E of Little Lake, CA',\n",
       " '24km E of Waukomis, Oklahoma',\n",
       " '16km SW of La Quinta, CA',\n",
       " '9km NNW of Borrego Springs, CA',\n",
       " '24km WNW of Warm Springs, Nevada',\n",
       " 'South Shetland Islands']"
      ]
     },
     "execution_count": 9,
     "metadata": {},
     "output_type": "execute_result"
    }
   ],
   "source": [
    "eqdf['place'].to_list()"
   ]
  },
  {
   "cell_type": "code",
   "execution_count": null,
   "metadata": {},
   "outputs": [],
   "source": []
  }
 ],
 "metadata": {
  "kernelspec": {
   "display_name": "Python 3",
   "language": "python",
   "name": "python3"
  },
  "language_info": {
   "codemirror_mode": {
    "name": "ipython",
    "version": 3
   },
   "file_extension": ".py",
   "mimetype": "text/x-python",
   "name": "python",
   "nbconvert_exporter": "python",
   "pygments_lexer": "ipython3",
   "version": "3.7.4"
  }
 },
 "nbformat": 4,
 "nbformat_minor": 2
}
