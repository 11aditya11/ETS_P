{
 "cells": [
  {
   "cell_type": "code",
   "execution_count": 1,
   "metadata": {},
   "outputs": [
    {
     "data": {
      "text/html": [
       "        <script type=\"text/javascript\">\n",
       "        window.PlotlyConfig = {MathJaxConfig: 'local'};\n",
       "        if (window.MathJax) {MathJax.Hub.Config({SVG: {font: \"STIX-Web\"}});}\n",
       "        if (typeof require !== 'undefined') {\n",
       "        require.undef(\"plotly\");\n",
       "        requirejs.config({\n",
       "            paths: {\n",
       "                'plotly': ['https://cdn.plot.ly/plotly-latest.min']\n",
       "            }\n",
       "        });\n",
       "        require(['plotly'], function(Plotly) {\n",
       "            window._Plotly = Plotly;\n",
       "        });\n",
       "        }\n",
       "        </script>\n",
       "        "
      ]
     },
     "metadata": {},
     "output_type": "display_data"
    }
   ],
   "source": [
    "import warnings\n",
    "warnings.filterwarnings(\"ignore\")\n",
    "\n",
    "import pandas as pd\n",
    "import matplotlib.pyplot as plt\n",
    "%matplotlib inline\n",
    "\n",
    "import numpy as np\n",
    "import scipy.stats as stats\n",
    "\n",
    "from sklearn.model_selection import (cross_val_predict, cross_val_score, train_test_split, GridSearchCV)\n",
    "from sklearn import preprocessing\n",
    "from sklearn.svm import SVC\n",
    "from sklearn.preprocessing import LabelEncoder\n",
    "from sklearn.ensemble import RandomForestRegressor\n",
    "\n",
    "import plotly.graph_objects as go\n",
    "from plotly.offline import download_plotlyjs, init_notebook_mode,  iplot, plot\n",
    "init_notebook_mode(connected=True)"
   ]
  },
  {
   "cell_type": "code",
   "execution_count": 2,
   "metadata": {},
   "outputs": [
    {
     "data": {
      "text/html": [
       "<div>\n",
       "<style scoped>\n",
       "    .dataframe tbody tr th:only-of-type {\n",
       "        vertical-align: middle;\n",
       "    }\n",
       "\n",
       "    .dataframe tbody tr th {\n",
       "        vertical-align: top;\n",
       "    }\n",
       "\n",
       "    .dataframe thead th {\n",
       "        text-align: right;\n",
       "    }\n",
       "</style>\n",
       "<table border=\"1\" class=\"dataframe\">\n",
       "  <thead>\n",
       "    <tr style=\"text-align: right;\">\n",
       "      <th></th>\n",
       "      <th>Date</th>\n",
       "      <th>Time</th>\n",
       "      <th>Latitude</th>\n",
       "      <th>Longitude</th>\n",
       "      <th>Type</th>\n",
       "      <th>Depth</th>\n",
       "      <th>Depth Error</th>\n",
       "      <th>Depth Seismic Stations</th>\n",
       "      <th>Magnitude</th>\n",
       "      <th>Magnitude Type</th>\n",
       "      <th>...</th>\n",
       "      <th>Azimuthal Gap</th>\n",
       "      <th>Horizontal Distance</th>\n",
       "      <th>Horizontal Error</th>\n",
       "      <th>Root Mean Square</th>\n",
       "      <th>ID</th>\n",
       "      <th>Source</th>\n",
       "      <th>Location Source</th>\n",
       "      <th>Magnitude Source</th>\n",
       "      <th>Status</th>\n",
       "      <th>Place</th>\n",
       "    </tr>\n",
       "  </thead>\n",
       "  <tbody>\n",
       "    <tr>\n",
       "      <td>0</td>\n",
       "      <td>01/02/1965</td>\n",
       "      <td>13:44:18</td>\n",
       "      <td>19.246</td>\n",
       "      <td>145.616</td>\n",
       "      <td>Earthquake</td>\n",
       "      <td>131.6</td>\n",
       "      <td>NaN</td>\n",
       "      <td>NaN</td>\n",
       "      <td>6.0</td>\n",
       "      <td>MW</td>\n",
       "      <td>...</td>\n",
       "      <td>NaN</td>\n",
       "      <td>NaN</td>\n",
       "      <td>NaN</td>\n",
       "      <td>NaN</td>\n",
       "      <td>ISCGEM860706</td>\n",
       "      <td>ISCGEM</td>\n",
       "      <td>ISCGEM</td>\n",
       "      <td>ISCGEM</td>\n",
       "      <td>Automatic</td>\n",
       "      <td>Unknown</td>\n",
       "    </tr>\n",
       "    <tr>\n",
       "      <td>1</td>\n",
       "      <td>01/04/1965</td>\n",
       "      <td>11:29:49</td>\n",
       "      <td>1.863</td>\n",
       "      <td>127.352</td>\n",
       "      <td>Earthquake</td>\n",
       "      <td>80.0</td>\n",
       "      <td>NaN</td>\n",
       "      <td>NaN</td>\n",
       "      <td>5.8</td>\n",
       "      <td>MW</td>\n",
       "      <td>...</td>\n",
       "      <td>NaN</td>\n",
       "      <td>NaN</td>\n",
       "      <td>NaN</td>\n",
       "      <td>NaN</td>\n",
       "      <td>ISCGEM860737</td>\n",
       "      <td>ISCGEM</td>\n",
       "      <td>ISCGEM</td>\n",
       "      <td>ISCGEM</td>\n",
       "      <td>Automatic</td>\n",
       "      <td>Ngidihopitonu, ID</td>\n",
       "    </tr>\n",
       "    <tr>\n",
       "      <td>2</td>\n",
       "      <td>01/05/1965</td>\n",
       "      <td>18:05:58</td>\n",
       "      <td>-20.579</td>\n",
       "      <td>-173.972</td>\n",
       "      <td>Earthquake</td>\n",
       "      <td>20.0</td>\n",
       "      <td>NaN</td>\n",
       "      <td>NaN</td>\n",
       "      <td>6.2</td>\n",
       "      <td>MW</td>\n",
       "      <td>...</td>\n",
       "      <td>NaN</td>\n",
       "      <td>NaN</td>\n",
       "      <td>NaN</td>\n",
       "      <td>NaN</td>\n",
       "      <td>ISCGEM860762</td>\n",
       "      <td>ISCGEM</td>\n",
       "      <td>ISCGEM</td>\n",
       "      <td>ISCGEM</td>\n",
       "      <td>Automatic</td>\n",
       "      <td>Pangai, TO</td>\n",
       "    </tr>\n",
       "    <tr>\n",
       "      <td>3</td>\n",
       "      <td>01/08/1965</td>\n",
       "      <td>18:49:43</td>\n",
       "      <td>-59.076</td>\n",
       "      <td>-23.557</td>\n",
       "      <td>Earthquake</td>\n",
       "      <td>15.0</td>\n",
       "      <td>NaN</td>\n",
       "      <td>NaN</td>\n",
       "      <td>5.8</td>\n",
       "      <td>MW</td>\n",
       "      <td>...</td>\n",
       "      <td>NaN</td>\n",
       "      <td>NaN</td>\n",
       "      <td>NaN</td>\n",
       "      <td>NaN</td>\n",
       "      <td>ISCGEM860856</td>\n",
       "      <td>ISCGEM</td>\n",
       "      <td>ISCGEM</td>\n",
       "      <td>ISCGEM</td>\n",
       "      <td>Automatic</td>\n",
       "      <td>Unknown</td>\n",
       "    </tr>\n",
       "    <tr>\n",
       "      <td>4</td>\n",
       "      <td>01/09/1965</td>\n",
       "      <td>13:32:50</td>\n",
       "      <td>11.938</td>\n",
       "      <td>126.427</td>\n",
       "      <td>Earthquake</td>\n",
       "      <td>15.0</td>\n",
       "      <td>NaN</td>\n",
       "      <td>NaN</td>\n",
       "      <td>5.8</td>\n",
       "      <td>MW</td>\n",
       "      <td>...</td>\n",
       "      <td>NaN</td>\n",
       "      <td>NaN</td>\n",
       "      <td>NaN</td>\n",
       "      <td>NaN</td>\n",
       "      <td>ISCGEM860890</td>\n",
       "      <td>ISCGEM</td>\n",
       "      <td>ISCGEM</td>\n",
       "      <td>ISCGEM</td>\n",
       "      <td>Automatic</td>\n",
       "      <td>Dapdap, PH</td>\n",
       "    </tr>\n",
       "  </tbody>\n",
       "</table>\n",
       "<p>5 rows × 22 columns</p>\n",
       "</div>"
      ],
      "text/plain": [
       "         Date      Time  Latitude  Longitude        Type  Depth  Depth Error  \\\n",
       "0  01/02/1965  13:44:18    19.246    145.616  Earthquake  131.6          NaN   \n",
       "1  01/04/1965  11:29:49     1.863    127.352  Earthquake   80.0          NaN   \n",
       "2  01/05/1965  18:05:58   -20.579   -173.972  Earthquake   20.0          NaN   \n",
       "3  01/08/1965  18:49:43   -59.076    -23.557  Earthquake   15.0          NaN   \n",
       "4  01/09/1965  13:32:50    11.938    126.427  Earthquake   15.0          NaN   \n",
       "\n",
       "   Depth Seismic Stations  Magnitude Magnitude Type  ...  Azimuthal Gap  \\\n",
       "0                     NaN        6.0             MW  ...            NaN   \n",
       "1                     NaN        5.8             MW  ...            NaN   \n",
       "2                     NaN        6.2             MW  ...            NaN   \n",
       "3                     NaN        5.8             MW  ...            NaN   \n",
       "4                     NaN        5.8             MW  ...            NaN   \n",
       "\n",
       "   Horizontal Distance  Horizontal Error  Root Mean Square            ID  \\\n",
       "0                  NaN               NaN               NaN  ISCGEM860706   \n",
       "1                  NaN               NaN               NaN  ISCGEM860737   \n",
       "2                  NaN               NaN               NaN  ISCGEM860762   \n",
       "3                  NaN               NaN               NaN  ISCGEM860856   \n",
       "4                  NaN               NaN               NaN  ISCGEM860890   \n",
       "\n",
       "   Source Location Source Magnitude Source     Status              Place  \n",
       "0  ISCGEM          ISCGEM           ISCGEM  Automatic            Unknown  \n",
       "1  ISCGEM          ISCGEM           ISCGEM  Automatic  Ngidihopitonu, ID  \n",
       "2  ISCGEM          ISCGEM           ISCGEM  Automatic         Pangai, TO  \n",
       "3  ISCGEM          ISCGEM           ISCGEM  Automatic            Unknown  \n",
       "4  ISCGEM          ISCGEM           ISCGEM  Automatic         Dapdap, PH  \n",
       "\n",
       "[5 rows x 22 columns]"
      ]
     },
     "execution_count": 2,
     "metadata": {},
     "output_type": "execute_result"
    }
   ],
   "source": [
    "qdb = pd.read_csv('quake_db_1965-2016.csv')\n",
    "qdb.head()"
   ]
  },
  {
   "cell_type": "code",
   "execution_count": 3,
   "metadata": {},
   "outputs": [
    {
     "data": {
      "text/plain": [
       "Index(['Date', 'Time', 'Latitude', 'Longitude', 'Type', 'Depth', 'Depth Error',\n",
       "       'Depth Seismic Stations', 'Magnitude', 'Magnitude Type',\n",
       "       'Magnitude Error', 'Magnitude Seismic Stations', 'Azimuthal Gap',\n",
       "       'Horizontal Distance', 'Horizontal Error', 'Root Mean Square', 'ID',\n",
       "       'Source', 'Location Source', 'Magnitude Source', 'Status', 'Place'],\n",
       "      dtype='object')"
      ]
     },
     "execution_count": 3,
     "metadata": {},
     "output_type": "execute_result"
    }
   ],
   "source": [
    "qdb.columns"
   ]
  },
  {
   "cell_type": "code",
   "execution_count": 4,
   "metadata": {},
   "outputs": [
    {
     "data": {
      "text/plain": [
       "<matplotlib.axes._subplots.AxesSubplot at 0x7f614fcd0d10>"
      ]
     },
     "execution_count": 4,
     "metadata": {},
     "output_type": "execute_result"
    },
    {
     "data": {
      "image/png": "[encoded data removed]",
      "text/plain": [
       "<Figure size 432x288 with 1 Axes>"
      ]
     },
     "metadata": {
      "needs_background": "light"
     },
     "output_type": "display_data"
    }
   ],
   "source": [
    "qdb['Type'].value_counts().plot(kind='bar')"
   ]
  },
  {
   "cell_type": "code",
   "execution_count": 5,
   "metadata": {
    "scrolled": true
   },
   "outputs": [
    {
     "data": {
      "text/plain": [
       "<matplotlib.axes._subplots.AxesSubplot at 0x7f614fbb7250>"
      ]
     },
     "execution_count": 5,
     "metadata": {},
     "output_type": "execute_result"
    },
    {
     "data": {
      "image/png": "[encoded data removed]",
      "text/plain": [
       "<Figure size 432x288 with 1 Axes>"
      ]
     },
     "metadata": {
      "needs_background": "light"
     },
     "output_type": "display_data"
    }
   ],
   "source": [
    "qdb['Magnitude Type'].value_counts().plot(kind='bar')"
   ]
  },
  {
   "cell_type": "code",
   "execution_count": 6,
   "metadata": {
    "scrolled": true
   },
   "outputs": [
    {
     "data": {
      "text/html": [
       "<div>\n",
       "<style scoped>\n",
       "    .dataframe tbody tr th:only-of-type {\n",
       "        vertical-align: middle;\n",
       "    }\n",
       "\n",
       "    .dataframe tbody tr th {\n",
       "        vertical-align: top;\n",
       "    }\n",
       "\n",
       "    .dataframe thead th {\n",
       "        text-align: right;\n",
       "    }\n",
       "</style>\n",
       "<table border=\"1\" class=\"dataframe\">\n",
       "  <thead>\n",
       "    <tr style=\"text-align: right;\">\n",
       "      <th></th>\n",
       "      <th>Date</th>\n",
       "      <th>Time</th>\n",
       "      <th>Latitude</th>\n",
       "      <th>Longitude</th>\n",
       "      <th>Type</th>\n",
       "      <th>Depth</th>\n",
       "      <th>Depth Error</th>\n",
       "      <th>Depth Seismic Stations</th>\n",
       "      <th>Magnitude</th>\n",
       "      <th>Magnitude Type</th>\n",
       "      <th>...</th>\n",
       "      <th>Azimuthal Gap</th>\n",
       "      <th>Horizontal Distance</th>\n",
       "      <th>Horizontal Error</th>\n",
       "      <th>Root Mean Square</th>\n",
       "      <th>ID</th>\n",
       "      <th>Source</th>\n",
       "      <th>Location Source</th>\n",
       "      <th>Magnitude Source</th>\n",
       "      <th>Status</th>\n",
       "      <th>Place</th>\n",
       "    </tr>\n",
       "  </thead>\n",
       "  <tbody>\n",
       "    <tr>\n",
       "      <td>55</td>\n",
       "      <td>02/16/1965</td>\n",
       "      <td>12:24:10</td>\n",
       "      <td>38.908</td>\n",
       "      <td>142.095</td>\n",
       "      <td>Earthquake</td>\n",
       "      <td>53.5</td>\n",
       "      <td>NaN</td>\n",
       "      <td>NaN</td>\n",
       "      <td>5.7</td>\n",
       "      <td>MW</td>\n",
       "      <td>...</td>\n",
       "      <td>NaN</td>\n",
       "      <td>NaN</td>\n",
       "      <td>NaN</td>\n",
       "      <td>NaN</td>\n",
       "      <td>ISCGEM860246</td>\n",
       "      <td>ISCGEM</td>\n",
       "      <td>ISCGEM</td>\n",
       "      <td>ISCGEM</td>\n",
       "      <td>Automatic</td>\n",
       "      <td>Ofunato, JP</td>\n",
       "    </tr>\n",
       "    <tr>\n",
       "      <td>89</td>\n",
       "      <td>03/16/1965</td>\n",
       "      <td>16:46:17</td>\n",
       "      <td>40.697</td>\n",
       "      <td>143.032</td>\n",
       "      <td>Earthquake</td>\n",
       "      <td>32.1</td>\n",
       "      <td>NaN</td>\n",
       "      <td>NaN</td>\n",
       "      <td>6.4</td>\n",
       "      <td>MW</td>\n",
       "      <td>...</td>\n",
       "      <td>NaN</td>\n",
       "      <td>NaN</td>\n",
       "      <td>NaN</td>\n",
       "      <td>NaN</td>\n",
       "      <td>ISCGEM858655</td>\n",
       "      <td>ISCGEM</td>\n",
       "      <td>ISCGEM</td>\n",
       "      <td>ISCGEM</td>\n",
       "      <td>Automatic</td>\n",
       "      <td>Kuji, JP</td>\n",
       "    </tr>\n",
       "    <tr>\n",
       "      <td>101</td>\n",
       "      <td>03/29/1965</td>\n",
       "      <td>10:47:38</td>\n",
       "      <td>40.687</td>\n",
       "      <td>142.915</td>\n",
       "      <td>Earthquake</td>\n",
       "      <td>30.0</td>\n",
       "      <td>NaN</td>\n",
       "      <td>NaN</td>\n",
       "      <td>6.4</td>\n",
       "      <td>MW</td>\n",
       "      <td>...</td>\n",
       "      <td>NaN</td>\n",
       "      <td>NaN</td>\n",
       "      <td>NaN</td>\n",
       "      <td>NaN</td>\n",
       "      <td>ISCGEM858966</td>\n",
       "      <td>ISCGEM</td>\n",
       "      <td>ISCGEM</td>\n",
       "      <td>ISCGEM</td>\n",
       "      <td>Automatic</td>\n",
       "      <td>Kuji, JP</td>\n",
       "    </tr>\n",
       "    <tr>\n",
       "      <td>111</td>\n",
       "      <td>04/06/1965</td>\n",
       "      <td>05:31:59</td>\n",
       "      <td>36.083</td>\n",
       "      <td>139.968</td>\n",
       "      <td>Earthquake</td>\n",
       "      <td>50.0</td>\n",
       "      <td>NaN</td>\n",
       "      <td>NaN</td>\n",
       "      <td>5.7</td>\n",
       "      <td>MW</td>\n",
       "      <td>...</td>\n",
       "      <td>NaN</td>\n",
       "      <td>NaN</td>\n",
       "      <td>NaN</td>\n",
       "      <td>NaN</td>\n",
       "      <td>ISCGEM857506</td>\n",
       "      <td>ISCGEM</td>\n",
       "      <td>ISCGEM</td>\n",
       "      <td>ISCGEM</td>\n",
       "      <td>Automatic</td>\n",
       "      <td>Ishige, JP</td>\n",
       "    </tr>\n",
       "    <tr>\n",
       "      <td>122</td>\n",
       "      <td>04/15/1965</td>\n",
       "      <td>05:09:50</td>\n",
       "      <td>25.080</td>\n",
       "      <td>122.897</td>\n",
       "      <td>Earthquake</td>\n",
       "      <td>165.0</td>\n",
       "      <td>NaN</td>\n",
       "      <td>NaN</td>\n",
       "      <td>5.6</td>\n",
       "      <td>MW</td>\n",
       "      <td>...</td>\n",
       "      <td>NaN</td>\n",
       "      <td>NaN</td>\n",
       "      <td>NaN</td>\n",
       "      <td>NaN</td>\n",
       "      <td>ISCGEM857769</td>\n",
       "      <td>ISCGEM</td>\n",
       "      <td>ISCGEM</td>\n",
       "      <td>ISCGEM</td>\n",
       "      <td>Automatic</td>\n",
       "      <td>Yonakuni, JP</td>\n",
       "    </tr>\n",
       "  </tbody>\n",
       "</table>\n",
       "<p>5 rows × 22 columns</p>\n",
       "</div>"
      ],
      "text/plain": [
       "           Date      Time  Latitude  Longitude        Type  Depth  \\\n",
       "55   02/16/1965  12:24:10    38.908    142.095  Earthquake   53.5   \n",
       "89   03/16/1965  16:46:17    40.697    143.032  Earthquake   32.1   \n",
       "101  03/29/1965  10:47:38    40.687    142.915  Earthquake   30.0   \n",
       "111  04/06/1965  05:31:59    36.083    139.968  Earthquake   50.0   \n",
       "122  04/15/1965  05:09:50    25.080    122.897  Earthquake  165.0   \n",
       "\n",
       "     Depth Error  Depth Seismic Stations  Magnitude Magnitude Type  ...  \\\n",
       "55           NaN                     NaN        5.7             MW  ...   \n",
       "89           NaN                     NaN        6.4             MW  ...   \n",
       "101          NaN                     NaN        6.4             MW  ...   \n",
       "111          NaN                     NaN        5.7             MW  ...   \n",
       "122          NaN                     NaN        5.6             MW  ...   \n",
       "\n",
       "     Azimuthal Gap  Horizontal Distance  Horizontal Error  Root Mean Square  \\\n",
       "55             NaN                  NaN               NaN               NaN   \n",
       "89             NaN                  NaN               NaN               NaN   \n",
       "101            NaN                  NaN               NaN               NaN   \n",
       "111            NaN                  NaN               NaN               NaN   \n",
       "122            NaN                  NaN               NaN               NaN   \n",
       "\n",
       "               ID  Source Location Source Magnitude Source     Status  \\\n",
       "55   ISCGEM860246  ISCGEM          ISCGEM           ISCGEM  Automatic   \n",
       "89   ISCGEM858655  ISCGEM          ISCGEM           ISCGEM  Automatic   \n",
       "101  ISCGEM858966  ISCGEM          ISCGEM           ISCGEM  Automatic   \n",
       "111  ISCGEM857506  ISCGEM          ISCGEM           ISCGEM  Automatic   \n",
       "122  ISCGEM857769  ISCGEM          ISCGEM           ISCGEM  Automatic   \n",
       "\n",
       "            Place  \n",
       "55    Ofunato, JP  \n",
       "89       Kuji, JP  \n",
       "101      Kuji, JP  \n",
       "111    Ishige, JP  \n",
       "122  Yonakuni, JP  \n",
       "\n",
       "[5 rows x 22 columns]"
      ]
     },
     "execution_count": 6,
     "metadata": {},
     "output_type": "execute_result"
    }
   ],
   "source": [
    "japan = qdb[qdb['Place'].str.contains('JP')]\n",
    "japan.head()"
   ]
  },
  {
   "cell_type": "code",
   "execution_count": 7,
   "metadata": {
    "scrolled": true
   },
   "outputs": [
    {
     "data": {
      "text/plain": [
       "(1347, 22)"
      ]
     },
     "execution_count": 7,
     "metadata": {},
     "output_type": "execute_result"
    }
   ],
   "source": [
    "japan.shape"
   ]
  },
  {
   "cell_type": "code",
   "execution_count": 8,
   "metadata": {},
   "outputs": [],
   "source": [
    "def nan_helper(y):    \n",
    "    return np.isnan(y), lambda z: z.nonzero()[0]"
   ]
  },
  {
   "cell_type": "code",
   "execution_count": 9,
   "metadata": {},
   "outputs": [],
   "source": [
    "def get_interpolation(my_df, nan_series):\n",
    "    arr_series = np.array(my_df[str(nan_series)])\n",
    "    nans, x = nan_helper(arr_series)\n",
    "    arr_series[nans] = np.interp(x(nans), x(~nans), arr_series[~nans])\n",
    "    return arr_series.round(2)"
   ]
  },
  {
   "cell_type": "code",
   "execution_count": 10,
   "metadata": {},
   "outputs": [],
   "source": [
    "japan.loc[:, 'Depth Error'] = get_interpolation(japan, 'Depth Error')\n",
    "japan.loc[:, 'Depth Seismic Stations'] = get_interpolation(japan, 'Depth Seismic Stations')\n",
    "japan.loc[:, 'Magnitude Error'] = get_interpolation(japan, 'Magnitude Error')\n",
    "japan.loc[:, 'Magnitude Seismic Stations'] = get_interpolation(japan, 'Magnitude Seismic Stations')\n",
    "japan.loc[:, 'Azimuthal Gap'] = get_interpolation(japan, 'Azimuthal Gap')\n",
    "japan.loc[:, 'Horizontal Distance'] = get_interpolation(japan, 'Horizontal Distance')\n",
    "japan.loc[:, 'Horizontal Error'] = get_interpolation(japan, 'Horizontal Error')\n",
    "japan.loc[:, 'Root Mean Square'] = get_interpolation(japan, 'Root Mean Square')"
   ]
  },
  {
   "cell_type": "code",
   "execution_count": 11,
   "metadata": {},
   "outputs": [],
   "source": [
    "def label_integer_encoder(my_df, series_name):\n",
    "    arr_name = np.array(list(my_df[str(series_name)]))\n",
    "    label_arr_encoder = LabelEncoder()\n",
    "    integer_arr_encoded = label_arr_encoder.fit_transform(arr_name)\n",
    "    return integer_arr_encoded"
   ]
  },
  {
   "cell_type": "code",
   "execution_count": 12,
   "metadata": {},
   "outputs": [],
   "source": [
    "japan.loc[:, 'Type'] = label_integer_encoder(japan, 'Type')\n",
    "japan.loc[:, 'Status'] = label_integer_encoder(japan, 'Status')\n",
    "japan.loc[:, 'Magnitude Type'] = label_integer_encoder(japan, 'Magnitude Type')\n",
    "japan.loc[:, 'Place'] = label_integer_encoder(japan, 'Place')"
   ]
  },
  {
   "cell_type": "code",
   "execution_count": 13,
   "metadata": {},
   "outputs": [
    {
     "data": {
      "text/html": [
       "<div>\n",
       "<style scoped>\n",
       "    .dataframe tbody tr th:only-of-type {\n",
       "        vertical-align: middle;\n",
       "    }\n",
       "\n",
       "    .dataframe tbody tr th {\n",
       "        vertical-align: top;\n",
       "    }\n",
       "\n",
       "    .dataframe thead th {\n",
       "        text-align: right;\n",
       "    }\n",
       "</style>\n",
       "<table border=\"1\" class=\"dataframe\">\n",
       "  <thead>\n",
       "    <tr style=\"text-align: right;\">\n",
       "      <th></th>\n",
       "      <th>Date</th>\n",
       "      <th>Time</th>\n",
       "      <th>Latitude</th>\n",
       "      <th>Longitude</th>\n",
       "      <th>Type</th>\n",
       "      <th>Depth</th>\n",
       "      <th>Depth Error</th>\n",
       "      <th>Depth Seismic Stations</th>\n",
       "      <th>Magnitude</th>\n",
       "      <th>Magnitude Type</th>\n",
       "      <th>...</th>\n",
       "      <th>Azimuthal Gap</th>\n",
       "      <th>Horizontal Distance</th>\n",
       "      <th>Horizontal Error</th>\n",
       "      <th>Root Mean Square</th>\n",
       "      <th>ID</th>\n",
       "      <th>Source</th>\n",
       "      <th>Location Source</th>\n",
       "      <th>Magnitude Source</th>\n",
       "      <th>Status</th>\n",
       "      <th>Place</th>\n",
       "    </tr>\n",
       "  </thead>\n",
       "  <tbody>\n",
       "    <tr>\n",
       "      <td>55</td>\n",
       "      <td>02/16/1965</td>\n",
       "      <td>12:24:10</td>\n",
       "      <td>38.908</td>\n",
       "      <td>142.095</td>\n",
       "      <td>0</td>\n",
       "      <td>53.5</td>\n",
       "      <td>3.1</td>\n",
       "      <td>412.0</td>\n",
       "      <td>5.7</td>\n",
       "      <td>2</td>\n",
       "      <td>...</td>\n",
       "      <td>112.5</td>\n",
       "      <td>3.36</td>\n",
       "      <td>5.9</td>\n",
       "      <td>1.0</td>\n",
       "      <td>ISCGEM860246</td>\n",
       "      <td>ISCGEM</td>\n",
       "      <td>ISCGEM</td>\n",
       "      <td>ISCGEM</td>\n",
       "      <td>0</td>\n",
       "      <td>133</td>\n",
       "    </tr>\n",
       "    <tr>\n",
       "      <td>89</td>\n",
       "      <td>03/16/1965</td>\n",
       "      <td>16:46:17</td>\n",
       "      <td>40.697</td>\n",
       "      <td>143.032</td>\n",
       "      <td>0</td>\n",
       "      <td>32.1</td>\n",
       "      <td>3.1</td>\n",
       "      <td>412.0</td>\n",
       "      <td>6.4</td>\n",
       "      <td>2</td>\n",
       "      <td>...</td>\n",
       "      <td>112.5</td>\n",
       "      <td>3.36</td>\n",
       "      <td>5.9</td>\n",
       "      <td>1.0</td>\n",
       "      <td>ISCGEM858655</td>\n",
       "      <td>ISCGEM</td>\n",
       "      <td>ISCGEM</td>\n",
       "      <td>ISCGEM</td>\n",
       "      <td>0</td>\n",
       "      <td>81</td>\n",
       "    </tr>\n",
       "    <tr>\n",
       "      <td>101</td>\n",
       "      <td>03/29/1965</td>\n",
       "      <td>10:47:38</td>\n",
       "      <td>40.687</td>\n",
       "      <td>142.915</td>\n",
       "      <td>0</td>\n",
       "      <td>30.0</td>\n",
       "      <td>3.1</td>\n",
       "      <td>412.0</td>\n",
       "      <td>6.4</td>\n",
       "      <td>2</td>\n",
       "      <td>...</td>\n",
       "      <td>112.5</td>\n",
       "      <td>3.36</td>\n",
       "      <td>5.9</td>\n",
       "      <td>1.0</td>\n",
       "      <td>ISCGEM858966</td>\n",
       "      <td>ISCGEM</td>\n",
       "      <td>ISCGEM</td>\n",
       "      <td>ISCGEM</td>\n",
       "      <td>0</td>\n",
       "      <td>81</td>\n",
       "    </tr>\n",
       "    <tr>\n",
       "      <td>111</td>\n",
       "      <td>04/06/1965</td>\n",
       "      <td>05:31:59</td>\n",
       "      <td>36.083</td>\n",
       "      <td>139.968</td>\n",
       "      <td>0</td>\n",
       "      <td>50.0</td>\n",
       "      <td>3.1</td>\n",
       "      <td>412.0</td>\n",
       "      <td>5.7</td>\n",
       "      <td>2</td>\n",
       "      <td>...</td>\n",
       "      <td>112.5</td>\n",
       "      <td>3.36</td>\n",
       "      <td>5.9</td>\n",
       "      <td>1.0</td>\n",
       "      <td>ISCGEM857506</td>\n",
       "      <td>ISCGEM</td>\n",
       "      <td>ISCGEM</td>\n",
       "      <td>ISCGEM</td>\n",
       "      <td>0</td>\n",
       "      <td>42</td>\n",
       "    </tr>\n",
       "    <tr>\n",
       "      <td>122</td>\n",
       "      <td>04/15/1965</td>\n",
       "      <td>05:09:50</td>\n",
       "      <td>25.080</td>\n",
       "      <td>122.897</td>\n",
       "      <td>0</td>\n",
       "      <td>165.0</td>\n",
       "      <td>3.1</td>\n",
       "      <td>412.0</td>\n",
       "      <td>5.6</td>\n",
       "      <td>2</td>\n",
       "      <td>...</td>\n",
       "      <td>112.5</td>\n",
       "      <td>3.36</td>\n",
       "      <td>5.9</td>\n",
       "      <td>1.0</td>\n",
       "      <td>ISCGEM857769</td>\n",
       "      <td>ISCGEM</td>\n",
       "      <td>ISCGEM</td>\n",
       "      <td>ISCGEM</td>\n",
       "      <td>0</td>\n",
       "      <td>229</td>\n",
       "    </tr>\n",
       "  </tbody>\n",
       "</table>\n",
       "<p>5 rows × 22 columns</p>\n",
       "</div>"
      ],
      "text/plain": [
       "           Date      Time  Latitude  Longitude  Type  Depth  Depth Error  \\\n",
       "55   02/16/1965  12:24:10    38.908    142.095     0   53.5          3.1   \n",
       "89   03/16/1965  16:46:17    40.697    143.032     0   32.1          3.1   \n",
       "101  03/29/1965  10:47:38    40.687    142.915     0   30.0          3.1   \n",
       "111  04/06/1965  05:31:59    36.083    139.968     0   50.0          3.1   \n",
       "122  04/15/1965  05:09:50    25.080    122.897     0  165.0          3.1   \n",
       "\n",
       "     Depth Seismic Stations  Magnitude  Magnitude Type  ...  Azimuthal Gap  \\\n",
       "55                    412.0        5.7               2  ...          112.5   \n",
       "89                    412.0        6.4               2  ...          112.5   \n",
       "101                   412.0        6.4               2  ...          112.5   \n",
       "111                   412.0        5.7               2  ...          112.5   \n",
       "122                   412.0        5.6               2  ...          112.5   \n",
       "\n",
       "     Horizontal Distance  Horizontal Error  Root Mean Square            ID  \\\n",
       "55                  3.36               5.9               1.0  ISCGEM860246   \n",
       "89                  3.36               5.9               1.0  ISCGEM858655   \n",
       "101                 3.36               5.9               1.0  ISCGEM858966   \n",
       "111                 3.36               5.9               1.0  ISCGEM857506   \n",
       "122                 3.36               5.9               1.0  ISCGEM857769   \n",
       "\n",
       "     Source Location Source Magnitude Source Status Place  \n",
       "55   ISCGEM          ISCGEM           ISCGEM      0   133  \n",
       "89   ISCGEM          ISCGEM           ISCGEM      0    81  \n",
       "101  ISCGEM          ISCGEM           ISCGEM      0    81  \n",
       "111  ISCGEM          ISCGEM           ISCGEM      0    42  \n",
       "122  ISCGEM          ISCGEM           ISCGEM      0   229  \n",
       "\n",
       "[5 rows x 22 columns]"
      ]
     },
     "execution_count": 13,
     "metadata": {},
     "output_type": "execute_result"
    }
   ],
   "source": [
    "japan.head()"
   ]
  },
  {
   "cell_type": "code",
   "execution_count": 14,
   "metadata": {
    "scrolled": false
   },
   "outputs": [
    {
     "data": {
      "image/png": "[encoded data removed]",
      "text/plain": [
       "<Figure size 432x288 with 1 Axes>"
      ]
     },
     "metadata": {
      "needs_background": "light"
     },
     "output_type": "display_data"
    }
   ],
   "source": [
    "plt.scatter(japan['Magnitude'], japan['Depth'])\n",
    "plt.show()"
   ]
  },
  {
   "cell_type": "code",
   "execution_count": 15,
   "metadata": {},
   "outputs": [
    {
     "data": {
      "text/plain": [
       "<matplotlib.axes._subplots.AxesSubplot at 0x7f614fabfb90>"
      ]
     },
     "execution_count": 15,
     "metadata": {},
     "output_type": "execute_result"
    },
    {
     "data": {
      "image/png": "[encoded data removed]",
      "text/plain": [
       "<Figure size 432x288 with 1 Axes>"
      ]
     },
     "metadata": {
      "needs_background": "light"
     },
     "output_type": "display_data"
    }
   ],
   "source": [
    "japan['Magnitude Type'].value_counts().plot(kind='bar')"
   ]
  },
  {
   "cell_type": "code",
   "execution_count": 16,
   "metadata": {},
   "outputs": [],
   "source": [
    "X = japan[['Depth', 'Magnitude Error', 'Magnitude Type', 'Depth Error', 'Azimuthal Gap', \n",
    "           'Horizontal Distance', 'Horizontal Error', 'Root Mean Square', 'Place']]\n",
    "y = japan[['Latitude', 'Longitude', 'Magnitude']]"
   ]
  },
  {
   "cell_type": "code",
   "execution_count": 17,
   "metadata": {},
   "outputs": [
    {
     "data": {
      "text/html": [
       "<div>\n",
       "<style scoped>\n",
       "    .dataframe tbody tr th:only-of-type {\n",
       "        vertical-align: middle;\n",
       "    }\n",
       "\n",
       "    .dataframe tbody tr th {\n",
       "        vertical-align: top;\n",
       "    }\n",
       "\n",
       "    .dataframe thead th {\n",
       "        text-align: right;\n",
       "    }\n",
       "</style>\n",
       "<table border=\"1\" class=\"dataframe\">\n",
       "  <thead>\n",
       "    <tr style=\"text-align: right;\">\n",
       "      <th></th>\n",
       "      <th>Depth</th>\n",
       "      <th>Magnitude Error</th>\n",
       "      <th>Magnitude Type</th>\n",
       "      <th>Depth Error</th>\n",
       "      <th>Azimuthal Gap</th>\n",
       "      <th>Horizontal Distance</th>\n",
       "      <th>Horizontal Error</th>\n",
       "      <th>Root Mean Square</th>\n",
       "      <th>Place</th>\n",
       "    </tr>\n",
       "  </thead>\n",
       "  <tbody>\n",
       "    <tr>\n",
       "      <td>55</td>\n",
       "      <td>53.5</td>\n",
       "      <td>0.04</td>\n",
       "      <td>2</td>\n",
       "      <td>3.1</td>\n",
       "      <td>112.5</td>\n",
       "      <td>3.36</td>\n",
       "      <td>5.9</td>\n",
       "      <td>1.0</td>\n",
       "      <td>133</td>\n",
       "    </tr>\n",
       "    <tr>\n",
       "      <td>89</td>\n",
       "      <td>32.1</td>\n",
       "      <td>0.04</td>\n",
       "      <td>2</td>\n",
       "      <td>3.1</td>\n",
       "      <td>112.5</td>\n",
       "      <td>3.36</td>\n",
       "      <td>5.9</td>\n",
       "      <td>1.0</td>\n",
       "      <td>81</td>\n",
       "    </tr>\n",
       "    <tr>\n",
       "      <td>101</td>\n",
       "      <td>30.0</td>\n",
       "      <td>0.04</td>\n",
       "      <td>2</td>\n",
       "      <td>3.1</td>\n",
       "      <td>112.5</td>\n",
       "      <td>3.36</td>\n",
       "      <td>5.9</td>\n",
       "      <td>1.0</td>\n",
       "      <td>81</td>\n",
       "    </tr>\n",
       "    <tr>\n",
       "      <td>111</td>\n",
       "      <td>50.0</td>\n",
       "      <td>0.04</td>\n",
       "      <td>2</td>\n",
       "      <td>3.1</td>\n",
       "      <td>112.5</td>\n",
       "      <td>3.36</td>\n",
       "      <td>5.9</td>\n",
       "      <td>1.0</td>\n",
       "      <td>42</td>\n",
       "    </tr>\n",
       "    <tr>\n",
       "      <td>122</td>\n",
       "      <td>165.0</td>\n",
       "      <td>0.04</td>\n",
       "      <td>2</td>\n",
       "      <td>3.1</td>\n",
       "      <td>112.5</td>\n",
       "      <td>3.36</td>\n",
       "      <td>5.9</td>\n",
       "      <td>1.0</td>\n",
       "      <td>229</td>\n",
       "    </tr>\n",
       "  </tbody>\n",
       "</table>\n",
       "</div>"
      ],
      "text/plain": [
       "     Depth  Magnitude Error  Magnitude Type  Depth Error  Azimuthal Gap  \\\n",
       "55    53.5             0.04               2          3.1          112.5   \n",
       "89    32.1             0.04               2          3.1          112.5   \n",
       "101   30.0             0.04               2          3.1          112.5   \n",
       "111   50.0             0.04               2          3.1          112.5   \n",
       "122  165.0             0.04               2          3.1          112.5   \n",
       "\n",
       "     Horizontal Distance  Horizontal Error  Root Mean Square  Place  \n",
       "55                  3.36               5.9               1.0    133  \n",
       "89                  3.36               5.9               1.0     81  \n",
       "101                 3.36               5.9               1.0     81  \n",
       "111                 3.36               5.9               1.0     42  \n",
       "122                 3.36               5.9               1.0    229  "
      ]
     },
     "execution_count": 17,
     "metadata": {},
     "output_type": "execute_result"
    }
   ],
   "source": [
    "X.shape\n",
    "X.head()"
   ]
  },
  {
   "cell_type": "code",
   "execution_count": 18,
   "metadata": {
    "scrolled": true
   },
   "outputs": [
    {
     "data": {
      "text/plain": [
       "(1347, 3)"
      ]
     },
     "execution_count": 18,
     "metadata": {},
     "output_type": "execute_result"
    }
   ],
   "source": [
    "y.shape"
   ]
  },
  {
   "cell_type": "code",
   "execution_count": 19,
   "metadata": {},
   "outputs": [],
   "source": [
    "# X = preprocessing.StandardScaler().fit(X).transform(X)\n",
    "# X[0:5]"
   ]
  },
  {
   "cell_type": "code",
   "execution_count": 20,
   "metadata": {},
   "outputs": [
    {
     "name": "stdout",
     "output_type": "stream",
     "text": [
      "(1077, 9)\n",
      "(1077, 3)\n",
      "(270, 9)\n",
      "(270, 3)\n"
     ]
    }
   ],
   "source": [
    "X_train, X_test, y_train, y_test =  train_test_split(X, y, test_size=0.2, random_state=5)\n",
    "print(X_train.shape)\n",
    "print(y_train.shape)\n",
    "print(X_test.shape)\n",
    "print(y_test.shape)"
   ]
  },
  {
   "cell_type": "code",
   "execution_count": 21,
   "metadata": {},
   "outputs": [
    {
     "name": "stdout",
     "output_type": "stream",
     "text": [
      "0.7162181047909523\n"
     ]
    }
   ],
   "source": [
    "reg = RandomForestRegressor()\n",
    "reg.fit(X_train, y_train)\n",
    "preds = reg.predict(X_test)\n",
    "accuracy = reg.score(X_test, y_test)\n",
    "print(accuracy)"
   ]
  },
  {
   "cell_type": "code",
   "execution_count": 22,
   "metadata": {},
   "outputs": [
    {
     "name": "stdout",
     "output_type": "stream",
     "text": [
      "RandomForestRegressor(bootstrap=True, criterion='mse', max_depth=None,\n",
      "                      max_features='auto', max_leaf_nodes=None,\n",
      "                      min_impurity_decrease=0.0, min_impurity_split=None,\n",
      "                      min_samples_leaf=1, min_samples_split=2,\n",
      "                      min_weight_fraction_leaf=0.0, n_estimators=87,\n",
      "                      n_jobs=None, oob_score=False, random_state=None,\n",
      "                      verbose=0, warm_start=False)\n",
      "0.7900631674945803\n"
     ]
    }
   ],
   "source": [
    "parameters = {'n_estimators' : [16, 23, 43, 87, 45, 550, 680]}\n",
    "gs = GridSearchCV(reg, parameters, cv=10)\n",
    "grid_fit = gs.fit(X_train, y_train)\n",
    "best_fit = grid_fit.best_estimator_\n",
    "print(best_fit)\n",
    "y_hat = best_fit.predict(X_test)\n",
    "gs_a = best_fit.score(X_test, y_test)\n",
    "print(gs_a)"
   ]
  },
  {
   "cell_type": "code",
   "execution_count": 24,
   "metadata": {},
   "outputs": [
    {
     "data": {
      "text/html": [
       "<div>\n",
       "<style scoped>\n",
       "    .dataframe tbody tr th:only-of-type {\n",
       "        vertical-align: middle;\n",
       "    }\n",
       "\n",
       "    .dataframe tbody tr th {\n",
       "        vertical-align: top;\n",
       "    }\n",
       "\n",
       "    .dataframe thead th {\n",
       "        text-align: right;\n",
       "    }\n",
       "</style>\n",
       "<table border=\"1\" class=\"dataframe\">\n",
       "  <thead>\n",
       "    <tr style=\"text-align: right;\">\n",
       "      <th></th>\n",
       "      <th>lats</th>\n",
       "      <th>lons</th>\n",
       "      <th>mags</th>\n",
       "    </tr>\n",
       "  </thead>\n",
       "  <tbody>\n",
       "    <tr>\n",
       "      <td>0</td>\n",
       "      <td>37.621949</td>\n",
       "      <td>141.460630</td>\n",
       "      <td>5.72</td>\n",
       "    </tr>\n",
       "    <tr>\n",
       "      <td>1</td>\n",
       "      <td>39.431155</td>\n",
       "      <td>143.188569</td>\n",
       "      <td>6.72</td>\n",
       "    </tr>\n",
       "    <tr>\n",
       "      <td>2</td>\n",
       "      <td>36.210025</td>\n",
       "      <td>141.240586</td>\n",
       "      <td>6.04</td>\n",
       "    </tr>\n",
       "    <tr>\n",
       "      <td>3</td>\n",
       "      <td>35.908162</td>\n",
       "      <td>139.069894</td>\n",
       "      <td>6.00</td>\n",
       "    </tr>\n",
       "    <tr>\n",
       "      <td>4</td>\n",
       "      <td>36.863911</td>\n",
       "      <td>140.763899</td>\n",
       "      <td>5.85</td>\n",
       "    </tr>\n",
       "  </tbody>\n",
       "</table>\n",
       "</div>"
      ],
      "text/plain": [
       "        lats        lons  mags\n",
       "0  37.621949  141.460630  5.72\n",
       "1  39.431155  143.188569  6.72\n",
       "2  36.210025  141.240586  6.04\n",
       "3  35.908162  139.069894  6.00\n",
       "4  36.863911  140.763899  5.85"
      ]
     },
     "execution_count": 24,
     "metadata": {},
     "output_type": "execute_result"
    }
   ],
   "source": [
    "preds_df = pd.DataFrame()\n",
    "preds_df['lats'] = [row[0] for row in y_hat]\n",
    "preds_df['lons'] = [row[1] for row in y_hat]\n",
    "preds_df['mags'] = [round(row[2], 2) for row in y_hat]\n",
    "preds_df.head()"
   ]
  },
  {
   "cell_type": "code",
   "execution_count": 25,
   "metadata": {},
   "outputs": [],
   "source": [
    "data = [\n",
    "    go.Scattermapbox(\n",
    "        lat=preds_df['lats'],\n",
    "        lon=preds_df['lons'],\n",
    "        mode='markers',\n",
    "        marker=dict(size=7, color='blue')\n",
    "    )\n",
    "]\n",
    "\n",
    "layout = go.Layout(\n",
    "    width=800,\n",
    "    height=400,\n",
    "    autosize=True,\n",
    "    hovermode='closest',\n",
    "    mapbox_style='stamen-terrain',\n",
    "    margin=dict(l=0, r=0, t=0, b=0),\n",
    "    mapbox=dict(\n",
    "        bearing=0,\n",
    "        center=dict(\n",
    "            lat=preds_df['lats'][0],\n",
    "            lon=preds_df['lons'][0]\n",
    "        ),\n",
    "        pitch=0,\n",
    "        zoom=4,\n",
    "    )\n",
    ")"
   ]
  },
  {
   "cell_type": "code",
   "execution_count": 26,
   "metadata": {},
   "outputs": [
    {
     "data": {
      "application/vnd.plotly.v1+json": {
       "config": {
        "plotlyServerURL": "https://plot.ly"
       },
       "data": [
        {
         "lat": [
          37.62194942528738,
          39.4311551724138,
          36.2100252873563,
          35.90816206896553,
          36.86391091954021,
          24.49883908045979,
          37.5622988505747,
          37.102129885057465,
          37.380252873563194,
          37.96780574712645,
          38.639763218390826,
          32.77740114942531,
          39.02777701149424,
          34.08633333333333,
          32.60880459770119,
          39.953527586206896,
          39.3187011494253,
          40.08940229885058,
          33.39142528735632,
          35.51443448275862,
          37.272965517241396,
          25.593919540229873,
          34.202212643678166,
          35.85696551724138,
          38.23496781609194,
          39.120632183908036,
          24.39973563218391,
          41.32146743295018,
          33.613763218390794,
          36.27421379310345,
          39.91658620689654,
          38.34200344827586,
          39.939586206896536,
          24.377528735632175,
          39.3163695402299,
          39.691758620689704,
          39.97116091954022,
          36.093218390804644,
          37.222977011494244,
          35.46762413793103,
          37.060374712643686,
          38.22668965517239,
          37.448921839080455,
          35.51685287356321,
          32.5817344827586,
          39.686287356321856,
          34.62472988505748,
          39.37415057471266,
          37.11169999999998,
          38.41208045977012,
          36.92491724137931,
          24.316252873563226,
          43.020218390804594,
          38.793614942528734,
          38.28014942528737,
          36.35806436781609,
          39.37922701149423,
          36.67047931034483,
          39.32275862068966,
          28.145045977011485,
          33.14832873563217,
          34.779321839080474,
          37.91431034482759,
          35.99662873563218,
          38.08819885057474,
          28.012965517241412,
          41.36940229885055,
          38.0911264367816,
          37.85688045977008,
          34.378821839080445,
          36.40447749498269,
          39.7450459770115,
          30.250279310344844,
          35.013463054187184,
          35.22314482758618,
          36.582949425287374,
          31.008550574712647,
          37.465114942528714,
          38.514680459770084,
          36.189583908046004,
          24.129091954022996,
          34.39473563218391,
          32.001271264367816,
          37.29101264367814,
          36.24048275862068,
          38.129597701149414,
          36.79340229885057,
          40.12111494252876,
          39.33141379310347,
          38.131811494252865,
          38.18716091954019,
          33.81437931034485,
          40.660724137931076,
          33.3107804597701,
          24.112185057471226,
          41.259540229885026,
          38.03456781609194,
          33.3527183908046,
          37.53872413793106,
          42.2878390804598,
          41.77753908045979,
          30.292977011494237,
          39.87760919540231,
          27.71106551724139,
          33.3787471264368,
          34.51936781609198,
          37.17615402298849,
          37.39434999999998,
          34.441195402298845,
          28.031632183908055,
          34.99483908045974,
          35.44349885057473,
          35.497636781609174,
          37.199620689655184,
          37.6942551724138,
          37.788528735632205,
          40.133534482758606,
          34.6589183908046,
          38.22153448275866,
          31.04303448275864,
          39.28572413793104,
          34.98655172413791,
          38.42441954022986,
          37.534241379310345,
          32.2216091954023,
          34.77393103448278,
          24.30840229885059,
          31.172149425287355,
          24.512080459770136,
          37.590721839080494,
          36.38117241379312,
          37.080908045977004,
          32.34427126436783,
          37.24316091954022,
          37.539898362525086,
          34.665873563218376,
          38.95636781609197,
          41.796141215106736,
          33.57751724137929,
          35.91869293924464,
          37.94724663382595,
          39.11960919540234,
          38.556693103448254,
          39.369367816091966,
          33.9773448275862,
          35.649351340996155,
          33.157850574712654,
          28.319632183908084,
          36.28871034482759,
          37.35862528735632,
          29.321873563218347,
          36.02698735632184,
          37.28624712643678,
          40.90006896551728,
          36.35293735632183,
          37.71651436781609,
          36.72138045977012,
          35.922178160919536,
          40.02528735632187,
          42.145609195402315,
          34.970701149425274,
          26.412689655172418,
          37.308558620689666,
          27.584793103448277,
          33.278529885057466,
          32.352951724137945,
          36.061803448275846,
          32.85662298850574,
          30.155310344827583,
          24.209701149425285,
          37.13162873563221,
          39.89172413793103,
          39.9959540229885,
          38.58953563218392,
          42.866160919540214,
          30.593252873563202,
          35.32360919540229,
          33.48058620689654,
          35.99558160919539,
          38.86834482758622,
          34.95675517241377,
          30.70441609195401,
          39.75903448275867,
          34.99350574712646,
          36.887482758620706,
          37.31461609195401,
          38.6845632183908,
          37.05081609195403,
          36.35929885057472,
          33.124019540229874,
          39.35919540229882,
          37.43660919540231,
          26.804183908045978,
          35.94204482758619,
          24.062028735632186,
          37.59658949096878,
          31.20839080459772,
          32.74250574712643,
          39.9102528735632,
          40.99138505747129,
          39.036589490968815,
          35.137034482758594,
          37.00973793103449,
          28.340448275862055,
          35.17116091954024,
          25.62048275862068,
          37.179828735632164,
          40.10844827586212,
          29.035160919540253,
          32.94361839080461,
          24.329196551724156,
          39.26577471264366,
          34.93839770114942,
          35.94281609195402,
          41.370160919540226,
          38.91437931034482,
          39.458781609195434,
          29.40447126436784,
          37.40595172413791,
          34.51327471264369,
          35.06271149425289,
          39.22704597701151,
          34.40149655172414,
          31.351287356321848,
          37.27571954022988,
          29.081057471264376,
          33.94646321839083,
          32.750494252873565,
          38.14843448275861,
          36.93954578544062,
          37.3678471264368,
          35.73679770114943,
          40.326804597701134,
          38.280788505747104,
          24.340022988505762,
          35.878701149425254,
          38.091951724137914,
          36.87268965517242,
          29.59863218390803,
          32.58365517241379,
          36.54963448275863,
          35.382402298850586,
          36.96210689655174,
          38.27417241379312,
          36.73776551724139,
          38.32509003831419,
          34.87462873563221,
          37.167942528735644,
          37.60192052545154,
          36.62029540229885,
          26.939571839080465,
          33.701213793103456,
          35.01295402298849,
          38.0890574712644,
          37.21171379310344,
          35.919137931034484,
          37.203294252873526,
          34.849321839080474,
          33.839609195402296,
          35.45413218390803,
          34.949132183908034,
          24.482666666666674,
          35.36457356321841,
          37.0753796934866,
          39.318183908046024,
          39.904988505747156,
          36.23568965517242,
          29.84021839080462,
          42.18829885057474,
          32.877609195402314
         ],
         "lon": [
          141.46062988505747,
          143.18856896551716,
          141.24058620689655,
          139.06989425287364,
          140.76389942528738,
          122.90093103448285,
          136.73120689655175,
          140.34282068965518,
          141.2742471264368,
          141.5084218390805,
          142.13564482758616,
          134.36187241379318,
          141.29843908045976,
          136.03501149425284,
          134.8063103448276,
          140.33041264367827,
          143.12482758620686,
          143.3613218390805,
          135.94680459770123,
          139.48983448275862,
          141.4758160919541,
          124.93100000000014,
          140.82283908045983,
          140.2445862068965,
          140.07904367816093,
          142.6858045977011,
          122.73726436781617,
          142.81088697318026,
          138.01870574712646,
          140.13908275862073,
          141.89232183908058,
          141.7104022988506,
          141.42973563218413,
          122.75502298850581,
          141.66427528735636,
          143.161551724138,
          142.46649655172416,
          140.6136436781609,
          140.3830689655172,
          138.503983908046,
          140.5878137931035,
          139.01906896551725,
          140.33415402298849,
          138.35965172413802,
          135.91031954022998,
          142.4530114942529,
          136.36425747126438,
          142.5953988505747,
          141.46924482758604,
          141.88374137931024,
          141.2114206896552,
          122.62749425287355,
          139.37747126436787,
          141.91274942528742,
          141.37360919540234,
          140.91356206896555,
          141.42372183908057,
          138.88788965517236,
          142.13756321839077,
          128.9684137931034,
          136.57173333333336,
          139.35420689655174,
          141.4623103448276,
          138.64225517241385,
          141.5545816091955,
          129.99063218390805,
          143.3993448275863,
          141.51819540229891,
          141.55908045977014,
          139.86777624521088,
          141.63053700054738,
          142.88745977011493,
          131.51511034482763,
          138.37756568144502,
          136.65529195402306,
          139.73020919540215,
          135.8343367816091,
          137.31158620689655,
          141.8413229885058,
          142.69447931034495,
          122.5922873563218,
          136.86441379310347,
          138.71307126436773,
          141.26578735632185,
          139.84175517241374,
          139.60601149425293,
          140.7949655172413,
          143.16322988505735,
          143.08841379310334,
          141.73767011494252,
          140.5013793103448,
          138.00551724137938,
          141.26058620689665,
          135.03386091954025,
          122.50045057471262,
          143.40072413793112,
          140.37891551724152,
          135.4773632183908,
          140.86326551724142,
          144.32927586206887,
          144.15744022988503,
          132.62839080459776,
          143.07894396551737,
          128.64359655172402,
          140.8331724137929,
          138.0000459770114,
          141.52029655172404,
          140.9612379310345,
          134.62363103448274,
          128.0354597701149,
          138.1596091954024,
          138.25995517241378,
          137.09438850574702,
          141.0725517241379,
          141.36053678160914,
          141.03440229885055,
          142.64222906403944,
          139.64082298850576,
          141.78134942528737,
          133.2468505747127,
          143.14849425287355,
          137.8217977011494,
          141.54965747126445,
          140.64820689655173,
          132.38800919540222,
          137.4983563218391,
          122.44844827586208,
          133.61859770114944,
          122.76949425287364,
          141.68258045977015,
          140.535735632184,
          141.46453218390798,
          133.94960000000012,
          141.39718390804603,
          141.57270037401938,
          137.4667471264369,
          142.42693103448278,
          145.10130377668304,
          136.49132183908048,
          140.84179802955666,
          137.84533875205264,
          139.66193103448288,
          141.95675172413786,
          143.12882758620685,
          135.89839080459774,
          138.94751672140123,
          136.67305747126431,
          130.59436781609202,
          139.62208620689663,
          140.63713103448276,
          129.05266666666668,
          139.44270229885052,
          141.37277931034484,
          141.5123908045977,
          141.07038582375475,
          142.0699281609194,
          141.39988505747124,
          139.3566344827586,
          143.44597701149436,
          144.48197701149417,
          136.55698850574703,
          127.08974712643666,
          141.6018827586207,
          128.45447126436775,
          139.1179839080459,
          133.6062103448276,
          140.4392235632184,
          134.75012528735633,
          131.75908045977005,
          122.65235632183905,
          140.28408275862066,
          142.24783908045967,
          141.90365517241383,
          141.36595057471263,
          145.3641724137931,
          132.48844827586217,
          139.04578160919542,
          137.83152873563222,
          140.67717011494256,
          141.81183908045975,
          139.31395862068968,
          133.6902114942528,
          143.190459770115,
          138.36547126436787,
          140.9181609195402,
          140.2465264367815,
          141.17711724137925,
          140.6353103448276,
          138.8208275862069,
          135.2480091954023,
          143.3175402298851,
          141.88221839080458,
          127.42663218390794,
          139.2274896551724,
          122.84612988505735,
          141.04800492610843,
          133.04756321839076,
          139.28474252873565,
          141.8541954022989,
          142.94511781609194,
          142.83453366174064,
          137.8878620689655,
          140.4778425287357,
          129.8777356321839,
          137.9930689655172,
          126.53356321839073,
          141.6632275862068,
          142.60488505747134,
          130.27935632183903,
          133.5616,
          122.70686436781617,
          142.73314367816093,
          139.99069195402296,
          140.99983908045974,
          143.7807126436783,
          141.16333333333327,
          142.4075632183908,
          129.9410229885059,
          142.09819080459775,
          136.84946091954023,
          138.00752988505744,
          143.347896551724,
          136.77274482758614,
          132.67544827586204,
          141.96655402298842,
          129.39543678160928,
          136.4013574712644,
          134.8436666666667,
          140.5484965517241,
          139.92828639846752,
          141.5286885057471,
          139.10762873563218,
          139.63068965517243,
          140.40087586206894,
          122.71368965517244,
          140.95660000000004,
          141.1620218390804,
          140.65566666666672,
          129.85809195402297,
          134.97919540229893,
          140.62782413793101,
          136.96021839080456,
          139.5057505747126,
          142.04767816091956,
          139.76662298850562,
          141.56027969348654,
          136.48381954022977,
          141.03686206896558,
          141.46110591132998,
          139.8340356321839,
          128.29470114942524,
          137.8881931034483,
          136.81610344827592,
          142.1772298850575,
          141.75668045977005,
          139.5494252873564,
          141.12356896551725,
          139.44373563218392,
          134.6685747126437,
          140.36435632183898,
          137.5746212643679,
          122.5162298850575,
          140.69184597701158,
          140.0678139846744,
          142.94211494252875,
          143.28931034482767,
          140.87077011494253,
          131.3733103448275,
          144.86366666666657,
          136.10533333333348
         ],
         "marker": {
          "color": "blue",
          "size": 7
         },
         "mode": "markers",
         "type": "scattermapbox"
        }
       ],
       "layout": {
        "autosize": true,
        "height": 400,
        "hovermode": "closest",
        "mapbox": {
         "bearing": 0,
         "center": {
          "lat": 37.62194942528738,
          "lon": 141.46062988505747
         },
         "pitch": 0,
         "style": "stamen-terrain",
         "zoom": 4
        },
        "margin": {
         "b": 0,
         "l": 0,
         "r": 0,
         "t": 0
        },
        "template": {
         "data": {
          "bar": [
           {
            "error_x": {
             "color": "#2a3f5f"
            },
            "error_y": {
             "color": "#2a3f5f"
            },
            "marker": {
             "line": {
              "color": "#E5ECF6",
              "width": 0.5
             }
            },
            "type": "bar"
           }
          ],
          "barpolar": [
           {
            "marker": {
             "line": {
              "color": "#E5ECF6",
              "width": 0.5
             }
            },
            "type": "barpolar"
           }
          ],
          "carpet": [
           {
            "aaxis": {
             "endlinecolor": "#2a3f5f",
             "gridcolor": "white",
             "linecolor": "white",
             "minorgridcolor": "white",
             "startlinecolor": "#2a3f5f"
            },
            "baxis": {
             "endlinecolor": "#2a3f5f",
             "gridcolor": "white",
             "linecolor": "white",
             "minorgridcolor": "white",
             "startlinecolor": "#2a3f5f"
            },
            "type": "carpet"
           }
          ],
          "choropleth": [
           {
            "colorbar": {
             "outlinewidth": 0,
             "ticks": ""
            },
            "type": "choropleth"
           }
          ],
          "contour": [
           {
            "colorbar": {
             "outlinewidth": 0,
             "ticks": ""
            },
            "colorscale": [
             [
              0,
              "#0d0887"
             ],
             [
              0.1111111111111111,
              "#46039f"
             ],
             [
              0.2222222222222222,
              "#7201a8"
             ],
             [
              0.3333333333333333,
              "#9c179e"
             ],
             [
              0.4444444444444444,
              "#bd3786"
             ],
             [
              0.5555555555555556,
              "#d8576b"
             ],
             [
              0.6666666666666666,
              "#ed7953"
             ],
             [
              0.7777777777777778,
              "#fb9f3a"
             ],
             [
              0.8888888888888888,
              "#fdca26"
             ],
             [
              1,
              "#f0f921"
             ]
            ],
            "type": "contour"
           }
          ],
          "contourcarpet": [
           {
            "colorbar": {
             "outlinewidth": 0,
             "ticks": ""
            },
            "type": "contourcarpet"
           }
          ],
          "heatmap": [
           {
            "colorbar": {
             "outlinewidth": 0,
             "ticks": ""
            },
            "colorscale": [
             [
              0,
              "#0d0887"
             ],
             [
              0.1111111111111111,
              "#46039f"
             ],
             [
              0.2222222222222222,
              "#7201a8"
             ],
             [
              0.3333333333333333,
              "#9c179e"
             ],
             [
              0.4444444444444444,
              "#bd3786"
             ],
             [
              0.5555555555555556,
              "#d8576b"
             ],
             [
              0.6666666666666666,
              "#ed7953"
             ],
             [
              0.7777777777777778,
              "#fb9f3a"
             ],
             [
              0.8888888888888888,
              "#fdca26"
             ],
             [
              1,
              "#f0f921"
             ]
            ],
            "type": "heatmap"
           }
          ],
          "heatmapgl": [
           {
            "colorbar": {
             "outlinewidth": 0,
             "ticks": ""
            },
            "colorscale": [
             [
              0,
              "#0d0887"
             ],
             [
              0.1111111111111111,
              "#46039f"
             ],
             [
              0.2222222222222222,
              "#7201a8"
             ],
             [
              0.3333333333333333,
              "#9c179e"
             ],
             [
              0.4444444444444444,
              "#bd3786"
             ],
             [
              0.5555555555555556,
              "#d8576b"
             ],
             [
              0.6666666666666666,
              "#ed7953"
             ],
             [
              0.7777777777777778,
              "#fb9f3a"
             ],
             [
              0.8888888888888888,
              "#fdca26"
             ],
             [
              1,
              "#f0f921"
             ]
            ],
            "type": "heatmapgl"
           }
          ],
          "histogram": [
           {
            "marker": {
             "colorbar": {
              "outlinewidth": 0,
              "ticks": ""
             }
            },
            "type": "histogram"
           }
          ],
          "histogram2d": [
           {
            "colorbar": {
             "outlinewidth": 0,
             "ticks": ""
            },
            "colorscale": [
             [
              0,
              "#0d0887"
             ],
             [
              0.1111111111111111,
              "#46039f"
             ],
             [
              0.2222222222222222,
              "#7201a8"
             ],
             [
              0.3333333333333333,
              "#9c179e"
             ],
             [
              0.4444444444444444,
              "#bd3786"
             ],
             [
              0.5555555555555556,
              "#d8576b"
             ],
             [
              0.6666666666666666,
              "#ed7953"
             ],
             [
              0.7777777777777778,
              "#fb9f3a"
             ],
             [
              0.8888888888888888,
              "#fdca26"
             ],
             [
              1,
              "#f0f921"
             ]
            ],
            "type": "histogram2d"
           }
          ],
          "histogram2dcontour": [
           {
            "colorbar": {
             "outlinewidth": 0,
             "ticks": ""
            },
            "colorscale": [
             [
              0,
              "#0d0887"
             ],
             [
              0.1111111111111111,
              "#46039f"
             ],
             [
              0.2222222222222222,
              "#7201a8"
             ],
             [
              0.3333333333333333,
              "#9c179e"
             ],
             [
              0.4444444444444444,
              "#bd3786"
             ],
             [
              0.5555555555555556,
              "#d8576b"
             ],
             [
              0.6666666666666666,
              "#ed7953"
             ],
             [
              0.7777777777777778,
              "#fb9f3a"
             ],
             [
              0.8888888888888888,
              "#fdca26"
             ],
             [
              1,
              "#f0f921"
             ]
            ],
            "type": "histogram2dcontour"
           }
          ],
          "mesh3d": [
           {
            "colorbar": {
             "outlinewidth": 0,
             "ticks": ""
            },
            "type": "mesh3d"
           }
          ],
          "parcoords": [
           {
            "line": {
             "colorbar": {
              "outlinewidth": 0,
              "ticks": ""
             }
            },
            "type": "parcoords"
           }
          ],
          "scatter": [
           {
            "marker": {
             "colorbar": {
              "outlinewidth": 0,
              "ticks": ""
             }
            },
            "type": "scatter"
           }
          ],
          "scatter3d": [
           {
            "line": {
             "colorbar": {
              "outlinewidth": 0,
              "ticks": ""
             }
            },
            "marker": {
             "colorbar": {
              "outlinewidth": 0,
              "ticks": ""
             }
            },
            "type": "scatter3d"
           }
          ],
          "scattercarpet": [
           {
            "marker": {
             "colorbar": {
              "outlinewidth": 0,
              "ticks": ""
             }
            },
            "type": "scattercarpet"
           }
          ],
          "scattergeo": [
           {
            "marker": {
             "colorbar": {
              "outlinewidth": 0,
              "ticks": ""
             }
            },
            "type": "scattergeo"
           }
          ],
          "scattergl": [
           {
            "marker": {
             "colorbar": {
              "outlinewidth": 0,
              "ticks": ""
             }
            },
            "type": "scattergl"
           }
          ],
          "scattermapbox": [
           {
            "marker": {
             "colorbar": {
              "outlinewidth": 0,
              "ticks": ""
             }
            },
            "type": "scattermapbox"
           }
          ],
          "scatterpolar": [
           {
            "marker": {
             "colorbar": {
              "outlinewidth": 0,
              "ticks": ""
             }
            },
            "type": "scatterpolar"
           }
          ],
          "scatterpolargl": [
           {
            "marker": {
             "colorbar": {
              "outlinewidth": 0,
              "ticks": ""
             }
            },
            "type": "scatterpolargl"
           }
          ],
          "scatterternary": [
           {
            "marker": {
             "colorbar": {
              "outlinewidth": 0,
              "ticks": ""
             }
            },
            "type": "scatterternary"
           }
          ],
          "surface": [
           {
            "colorbar": {
             "outlinewidth": 0,
             "ticks": ""
            },
            "colorscale": [
             [
              0,
              "#0d0887"
             ],
             [
              0.1111111111111111,
              "#46039f"
             ],
             [
              0.2222222222222222,
              "#7201a8"
             ],
             [
              0.3333333333333333,
              "#9c179e"
             ],
             [
              0.4444444444444444,
              "#bd3786"
             ],
             [
              0.5555555555555556,
              "#d8576b"
             ],
             [
              0.6666666666666666,
              "#ed7953"
             ],
             [
              0.7777777777777778,
              "#fb9f3a"
             ],
             [
              0.8888888888888888,
              "#fdca26"
             ],
             [
              1,
              "#f0f921"
             ]
            ],
            "type": "surface"
           }
          ],
          "table": [
           {
            "cells": {
             "fill": {
              "color": "#EBF0F8"
             },
             "line": {
              "color": "white"
             }
            },
            "header": {
             "fill": {
              "color": "#C8D4E3"
             },
             "line": {
              "color": "white"
             }
            },
            "type": "table"
           }
          ]
         },
         "layout": {
          "annotationdefaults": {
           "arrowcolor": "#2a3f5f",
           "arrowhead": 0,
           "arrowwidth": 1
          },
          "colorscale": {
           "diverging": [
            [
             0,
             "#8e0152"
            ],
            [
             0.1,
             "#c51b7d"
            ],
            [
             0.2,
             "#de77ae"
            ],
            [
             0.3,
             "#f1b6da"
            ],
            [
             0.4,
             "#fde0ef"
            ],
            [
             0.5,
             "#f7f7f7"
            ],
            [
             0.6,
             "#e6f5d0"
            ],
            [
             0.7,
             "#b8e186"
            ],
            [
             0.8,
             "#7fbc41"
            ],
            [
             0.9,
             "#4d9221"
            ],
            [
             1,
             "#276419"
            ]
           ],
           "sequential": [
            [
             0,
             "#0d0887"
            ],
            [
             0.1111111111111111,
             "#46039f"
            ],
            [
             0.2222222222222222,
             "#7201a8"
            ],
            [
             0.3333333333333333,
             "#9c179e"
            ],
            [
             0.4444444444444444,
             "#bd3786"
            ],
            [
             0.5555555555555556,
             "#d8576b"
            ],
            [
             0.6666666666666666,
             "#ed7953"
            ],
            [
             0.7777777777777778,
             "#fb9f3a"
            ],
            [
             0.8888888888888888,
             "#fdca26"
            ],
            [
             1,
             "#f0f921"
            ]
           ],
           "sequentialminus": [
            [
             0,
             "#0d0887"
            ],
            [
             0.1111111111111111,
             "#46039f"
            ],
            [
             0.2222222222222222,
             "#7201a8"
            ],
            [
             0.3333333333333333,
             "#9c179e"
            ],
            [
             0.4444444444444444,
             "#bd3786"
            ],
            [
             0.5555555555555556,
             "#d8576b"
            ],
            [
             0.6666666666666666,
             "#ed7953"
            ],
            [
             0.7777777777777778,
             "#fb9f3a"
            ],
            [
             0.8888888888888888,
             "#fdca26"
            ],
            [
             1,
             "#f0f921"
            ]
           ]
          },
          "colorway": [
           "#636efa",
           "#EF553B",
           "#00cc96",
           "#ab63fa",
           "#FFA15A",
           "#19d3f3",
           "#FF6692",
           "#B6E880",
           "#FF97FF",
           "#FECB52"
          ],
          "font": {
           "color": "#2a3f5f"
          },
          "geo": {
           "bgcolor": "white",
           "lakecolor": "white",
           "landcolor": "#E5ECF6",
           "showlakes": true,
           "showland": true,
           "subunitcolor": "white"
          },
          "hoverlabel": {
           "align": "left"
          },
          "hovermode": "closest",
          "mapbox": {
           "style": "light"
          },
          "paper_bgcolor": "white",
          "plot_bgcolor": "#E5ECF6",
          "polar": {
           "angularaxis": {
            "gridcolor": "white",
            "linecolor": "white",
            "ticks": ""
           },
           "bgcolor": "#E5ECF6",
           "radialaxis": {
            "gridcolor": "white",
            "linecolor": "white",
            "ticks": ""
           }
          },
          "scene": {
           "xaxis": {
            "backgroundcolor": "#E5ECF6",
            "gridcolor": "white",
            "gridwidth": 2,
            "linecolor": "white",
            "showbackground": true,
            "ticks": "",
            "zerolinecolor": "white"
           },
           "yaxis": {
            "backgroundcolor": "#E5ECF6",
            "gridcolor": "white",
            "gridwidth": 2,
            "linecolor": "white",
            "showbackground": true,
            "ticks": "",
            "zerolinecolor": "white"
           },
           "zaxis": {
            "backgroundcolor": "#E5ECF6",
            "gridcolor": "white",
            "gridwidth": 2,
            "linecolor": "white",
            "showbackground": true,
            "ticks": "",
            "zerolinecolor": "white"
           }
          },
          "shapedefaults": {
           "line": {
            "color": "#2a3f5f"
           }
          },
          "ternary": {
           "aaxis": {
            "gridcolor": "white",
            "linecolor": "white",
            "ticks": ""
           },
           "baxis": {
            "gridcolor": "white",
            "linecolor": "white",
            "ticks": ""
           },
           "bgcolor": "#E5ECF6",
           "caxis": {
            "gridcolor": "white",
            "linecolor": "white",
            "ticks": ""
           }
          },
          "title": {
           "x": 0.05
          },
          "xaxis": {
           "automargin": true,
           "gridcolor": "white",
           "linecolor": "white",
           "ticks": "",
           "zerolinecolor": "white",
           "zerolinewidth": 2
          },
          "yaxis": {
           "automargin": true,
           "gridcolor": "white",
           "linecolor": "white",
           "ticks": "",
           "zerolinecolor": "white",
           "zerolinewidth": 2
          }
         }
        },
        "width": 800
       }
      },
      "text/html": [
       "<div>\n",
       "        \n",
       "        \n",
       "            <div id=\"b941da75-3f82-4a6c-870d-cd3bfe36a3af\" class=\"plotly-graph-div\" style=\"height:400px; width:800px;\"></div>\n",
       "            <script type=\"text/javascript\">\n",
       "                require([\"plotly\"], function(Plotly) {\n",
       "                    window.PLOTLYENV=window.PLOTLYENV || {};\n",
       "                    \n",
       "                if (document.getElementById(\"b941da75-3f82-4a6c-870d-cd3bfe36a3af\")) {\n",
       "                    Plotly.newPlot(\n",
       "                        'b941da75-3f82-4a6c-870d-cd3bfe36a3af',\n",
       "                        [{\"lat\": [37.62194942528738, 39.4311551724138, 36.2100252873563, 35.90816206896553, 36.86391091954021, 24.49883908045979, 37.5622988505747, 37.102129885057465, 37.380252873563194, 37.96780574712645, 38.639763218390826, 32.77740114942531, 39.02777701149424, 34.08633333333333, 32.60880459770119, 39.953527586206896, 39.3187011494253, 40.08940229885058, 33.39142528735632, 35.51443448275862, 37.272965517241396, 25.593919540229873, 34.202212643678166, 35.85696551724138, 38.23496781609194, 39.120632183908036, 24.39973563218391, 41.32146743295018, 33.613763218390794, 36.27421379310345, 39.91658620689654, 38.34200344827586, 39.939586206896536, 24.377528735632175, 39.3163695402299, 39.691758620689704, 39.97116091954022, 36.093218390804644, 37.222977011494244, 35.46762413793103, 37.060374712643686, 38.22668965517239, 37.448921839080455, 35.51685287356321, 32.5817344827586, 39.686287356321856, 34.62472988505748, 39.37415057471266, 37.11169999999998, 38.41208045977012, 36.92491724137931, 24.316252873563226, 43.020218390804594, 38.793614942528734, 38.28014942528737, 36.35806436781609, 39.37922701149423, 36.67047931034483, 39.32275862068966, 28.145045977011485, 33.14832873563217, 34.779321839080474, 37.91431034482759, 35.99662873563218, 38.08819885057474, 28.012965517241412, 41.36940229885055, 38.0911264367816, 37.85688045977008, 34.378821839080445, 36.40447749498269, 39.7450459770115, 30.250279310344844, 35.013463054187184, 35.22314482758618, 36.582949425287374, 31.008550574712647, 37.465114942528714, 38.514680459770084, 36.189583908046004, 24.129091954022996, 34.39473563218391, 32.001271264367816, 37.29101264367814, 36.24048275862068, 38.129597701149414, 36.79340229885057, 40.12111494252876, 39.33141379310347, 38.131811494252865, 38.18716091954019, 33.81437931034485, 40.660724137931076, 33.3107804597701, 24.112185057471226, 41.259540229885026, 38.03456781609194, 33.3527183908046, 37.53872413793106, 42.2878390804598, 41.77753908045979, 30.292977011494237, 39.87760919540231, 27.71106551724139, 33.3787471264368, 34.51936781609198, 37.17615402298849, 37.39434999999998, 34.441195402298845, 28.031632183908055, 34.99483908045974, 35.44349885057473, 35.497636781609174, 37.199620689655184, 37.6942551724138, 37.788528735632205, 40.133534482758606, 34.6589183908046, 38.22153448275866, 31.04303448275864, 39.28572413793104, 34.98655172413791, 38.42441954022986, 37.534241379310345, 32.2216091954023, 34.77393103448278, 24.30840229885059, 31.172149425287355, 24.512080459770136, 37.590721839080494, 36.38117241379312, 37.080908045977004, 32.34427126436783, 37.24316091954022, 37.539898362525086, 34.665873563218376, 38.95636781609197, 41.796141215106736, 33.57751724137929, 35.91869293924464, 37.94724663382595, 39.11960919540234, 38.556693103448254, 39.369367816091966, 33.9773448275862, 35.649351340996155, 33.157850574712654, 28.319632183908084, 36.28871034482759, 37.35862528735632, 29.321873563218347, 36.02698735632184, 37.28624712643678, 40.90006896551728, 36.35293735632183, 37.71651436781609, 36.72138045977012, 35.922178160919536, 40.02528735632187, 42.145609195402315, 34.970701149425274, 26.412689655172418, 37.308558620689666, 27.584793103448277, 33.278529885057466, 32.352951724137945, 36.061803448275846, 32.85662298850574, 30.155310344827583, 24.209701149425285, 37.13162873563221, 39.89172413793103, 39.9959540229885, 38.58953563218392, 42.866160919540214, 30.593252873563202, 35.32360919540229, 33.48058620689654, 35.99558160919539, 38.86834482758622, 34.95675517241377, 30.70441609195401, 39.75903448275867, 34.99350574712646, 36.887482758620706, 37.31461609195401, 38.6845632183908, 37.05081609195403, 36.35929885057472, 33.124019540229874, 39.35919540229882, 37.43660919540231, 26.804183908045978, 35.94204482758619, 24.062028735632186, 37.59658949096878, 31.20839080459772, 32.74250574712643, 39.9102528735632, 40.99138505747129, 39.036589490968815, 35.137034482758594, 37.00973793103449, 28.340448275862055, 35.17116091954024, 25.62048275862068, 37.179828735632164, 40.10844827586212, 29.035160919540253, 32.94361839080461, 24.329196551724156, 39.26577471264366, 34.93839770114942, 35.94281609195402, 41.370160919540226, 38.91437931034482, 39.458781609195434, 29.40447126436784, 37.40595172413791, 34.51327471264369, 35.06271149425289, 39.22704597701151, 34.40149655172414, 31.351287356321848, 37.27571954022988, 29.081057471264376, 33.94646321839083, 32.750494252873565, 38.14843448275861, 36.93954578544062, 37.3678471264368, 35.73679770114943, 40.326804597701134, 38.280788505747104, 24.340022988505762, 35.878701149425254, 38.091951724137914, 36.87268965517242, 29.59863218390803, 32.58365517241379, 36.54963448275863, 35.382402298850586, 36.96210689655174, 38.27417241379312, 36.73776551724139, 38.32509003831419, 34.87462873563221, 37.167942528735644, 37.60192052545154, 36.62029540229885, 26.939571839080465, 33.701213793103456, 35.01295402298849, 38.0890574712644, 37.21171379310344, 35.919137931034484, 37.203294252873526, 34.849321839080474, 33.839609195402296, 35.45413218390803, 34.949132183908034, 24.482666666666674, 35.36457356321841, 37.0753796934866, 39.318183908046024, 39.904988505747156, 36.23568965517242, 29.84021839080462, 42.18829885057474, 32.877609195402314], \"lon\": [141.46062988505747, 143.18856896551716, 141.24058620689655, 139.06989425287364, 140.76389942528738, 122.90093103448285, 136.73120689655175, 140.34282068965518, 141.2742471264368, 141.5084218390805, 142.13564482758616, 134.36187241379318, 141.29843908045976, 136.03501149425284, 134.8063103448276, 140.33041264367827, 143.12482758620686, 143.3613218390805, 135.94680459770123, 139.48983448275862, 141.4758160919541, 124.93100000000014, 140.82283908045983, 140.2445862068965, 140.07904367816093, 142.6858045977011, 122.73726436781617, 142.81088697318026, 138.01870574712646, 140.13908275862073, 141.89232183908058, 141.7104022988506, 141.42973563218413, 122.75502298850581, 141.66427528735636, 143.161551724138, 142.46649655172416, 140.6136436781609, 140.3830689655172, 138.503983908046, 140.5878137931035, 139.01906896551725, 140.33415402298849, 138.35965172413802, 135.91031954022998, 142.4530114942529, 136.36425747126438, 142.5953988505747, 141.46924482758604, 141.88374137931024, 141.2114206896552, 122.62749425287355, 139.37747126436787, 141.91274942528742, 141.37360919540234, 140.91356206896555, 141.42372183908057, 138.88788965517236, 142.13756321839077, 128.9684137931034, 136.57173333333336, 139.35420689655174, 141.4623103448276, 138.64225517241385, 141.5545816091955, 129.99063218390805, 143.3993448275863, 141.51819540229891, 141.55908045977014, 139.86777624521088, 141.63053700054738, 142.88745977011493, 131.51511034482763, 138.37756568144502, 136.65529195402306, 139.73020919540215, 135.8343367816091, 137.31158620689655, 141.8413229885058, 142.69447931034495, 122.5922873563218, 136.86441379310347, 138.71307126436773, 141.26578735632185, 139.84175517241374, 139.60601149425293, 140.7949655172413, 143.16322988505735, 143.08841379310334, 141.73767011494252, 140.5013793103448, 138.00551724137938, 141.26058620689665, 135.03386091954025, 122.50045057471262, 143.40072413793112, 140.37891551724152, 135.4773632183908, 140.86326551724142, 144.32927586206887, 144.15744022988503, 132.62839080459776, 143.07894396551737, 128.64359655172402, 140.8331724137929, 138.0000459770114, 141.52029655172404, 140.9612379310345, 134.62363103448274, 128.0354597701149, 138.1596091954024, 138.25995517241378, 137.09438850574702, 141.0725517241379, 141.36053678160914, 141.03440229885055, 142.64222906403944, 139.64082298850576, 141.78134942528737, 133.2468505747127, 143.14849425287355, 137.8217977011494, 141.54965747126445, 140.64820689655173, 132.38800919540222, 137.4983563218391, 122.44844827586208, 133.61859770114944, 122.76949425287364, 141.68258045977015, 140.535735632184, 141.46453218390798, 133.94960000000012, 141.39718390804603, 141.57270037401938, 137.4667471264369, 142.42693103448278, 145.10130377668304, 136.49132183908048, 140.84179802955666, 137.84533875205264, 139.66193103448288, 141.95675172413786, 143.12882758620685, 135.89839080459774, 138.94751672140123, 136.67305747126431, 130.59436781609202, 139.62208620689663, 140.63713103448276, 129.05266666666668, 139.44270229885052, 141.37277931034484, 141.5123908045977, 141.07038582375475, 142.0699281609194, 141.39988505747124, 139.3566344827586, 143.44597701149436, 144.48197701149417, 136.55698850574703, 127.08974712643666, 141.6018827586207, 128.45447126436775, 139.1179839080459, 133.6062103448276, 140.4392235632184, 134.75012528735633, 131.75908045977005, 122.65235632183905, 140.28408275862066, 142.24783908045967, 141.90365517241383, 141.36595057471263, 145.3641724137931, 132.48844827586217, 139.04578160919542, 137.83152873563222, 140.67717011494256, 141.81183908045975, 139.31395862068968, 133.6902114942528, 143.190459770115, 138.36547126436787, 140.9181609195402, 140.2465264367815, 141.17711724137925, 140.6353103448276, 138.8208275862069, 135.2480091954023, 143.3175402298851, 141.88221839080458, 127.42663218390794, 139.2274896551724, 122.84612988505735, 141.04800492610843, 133.04756321839076, 139.28474252873565, 141.8541954022989, 142.94511781609194, 142.83453366174064, 137.8878620689655, 140.4778425287357, 129.8777356321839, 137.9930689655172, 126.53356321839073, 141.6632275862068, 142.60488505747134, 130.27935632183903, 133.5616, 122.70686436781617, 142.73314367816093, 139.99069195402296, 140.99983908045974, 143.7807126436783, 141.16333333333327, 142.4075632183908, 129.9410229885059, 142.09819080459775, 136.84946091954023, 138.00752988505744, 143.347896551724, 136.77274482758614, 132.67544827586204, 141.96655402298842, 129.39543678160928, 136.4013574712644, 134.8436666666667, 140.5484965517241, 139.92828639846752, 141.5286885057471, 139.10762873563218, 139.63068965517243, 140.40087586206894, 122.71368965517244, 140.95660000000004, 141.1620218390804, 140.65566666666672, 129.85809195402297, 134.97919540229893, 140.62782413793101, 136.96021839080456, 139.5057505747126, 142.04767816091956, 139.76662298850562, 141.56027969348654, 136.48381954022977, 141.03686206896558, 141.46110591132998, 139.8340356321839, 128.29470114942524, 137.8881931034483, 136.81610344827592, 142.1772298850575, 141.75668045977005, 139.5494252873564, 141.12356896551725, 139.44373563218392, 134.6685747126437, 140.36435632183898, 137.5746212643679, 122.5162298850575, 140.69184597701158, 140.0678139846744, 142.94211494252875, 143.28931034482767, 140.87077011494253, 131.3733103448275, 144.86366666666657, 136.10533333333348], \"marker\": {\"color\": \"blue\", \"size\": 7}, \"mode\": \"markers\", \"type\": \"scattermapbox\"}],\n",
       "                        {\"autosize\": true, \"height\": 400, \"hovermode\": \"closest\", \"mapbox\": {\"bearing\": 0, \"center\": {\"lat\": 37.62194942528738, \"lon\": 141.46062988505747}, \"pitch\": 0, \"style\": \"stamen-terrain\", \"zoom\": 4}, \"margin\": {\"b\": 0, \"l\": 0, \"r\": 0, \"t\": 0}, \"template\": {\"data\": {\"bar\": [{\"error_x\": {\"color\": \"#2a3f5f\"}, \"error_y\": {\"color\": \"#2a3f5f\"}, \"marker\": {\"line\": {\"color\": \"#E5ECF6\", \"width\": 0.5}}, \"type\": \"bar\"}], \"barpolar\": [{\"marker\": {\"line\": {\"color\": \"#E5ECF6\", \"width\": 0.5}}, \"type\": \"barpolar\"}], \"carpet\": [{\"aaxis\": {\"endlinecolor\": \"#2a3f5f\", \"gridcolor\": \"white\", \"linecolor\": \"white\", \"minorgridcolor\": \"white\", \"startlinecolor\": \"#2a3f5f\"}, \"baxis\": {\"endlinecolor\": \"#2a3f5f\", \"gridcolor\": \"white\", \"linecolor\": \"white\", \"minorgridcolor\": \"white\", \"startlinecolor\": \"#2a3f5f\"}, \"type\": \"carpet\"}], \"choropleth\": [{\"colorbar\": {\"outlinewidth\": 0, \"ticks\": \"\"}, \"type\": \"choropleth\"}], \"contour\": [{\"colorbar\": {\"outlinewidth\": 0, \"ticks\": \"\"}, \"colorscale\": [[0.0, \"#0d0887\"], [0.1111111111111111, \"#46039f\"], [0.2222222222222222, \"#7201a8\"], [0.3333333333333333, \"#9c179e\"], [0.4444444444444444, \"#bd3786\"], [0.5555555555555556, \"#d8576b\"], [0.6666666666666666, \"#ed7953\"], [0.7777777777777778, \"#fb9f3a\"], [0.8888888888888888, \"#fdca26\"], [1.0, \"#f0f921\"]], \"type\": \"contour\"}], \"contourcarpet\": [{\"colorbar\": {\"outlinewidth\": 0, \"ticks\": \"\"}, \"type\": \"contourcarpet\"}], \"heatmap\": [{\"colorbar\": {\"outlinewidth\": 0, \"ticks\": \"\"}, \"colorscale\": [[0.0, \"#0d0887\"], [0.1111111111111111, \"#46039f\"], [0.2222222222222222, \"#7201a8\"], [0.3333333333333333, \"#9c179e\"], [0.4444444444444444, \"#bd3786\"], [0.5555555555555556, \"#d8576b\"], [0.6666666666666666, \"#ed7953\"], [0.7777777777777778, \"#fb9f3a\"], [0.8888888888888888, \"#fdca26\"], [1.0, \"#f0f921\"]], \"type\": \"heatmap\"}], \"heatmapgl\": [{\"colorbar\": {\"outlinewidth\": 0, \"ticks\": \"\"}, \"colorscale\": [[0.0, \"#0d0887\"], [0.1111111111111111, \"#46039f\"], [0.2222222222222222, \"#7201a8\"], [0.3333333333333333, \"#9c179e\"], [0.4444444444444444, \"#bd3786\"], [0.5555555555555556, \"#d8576b\"], [0.6666666666666666, \"#ed7953\"], [0.7777777777777778, \"#fb9f3a\"], [0.8888888888888888, \"#fdca26\"], [1.0, \"#f0f921\"]], \"type\": \"heatmapgl\"}], \"histogram\": [{\"marker\": {\"colorbar\": {\"outlinewidth\": 0, \"ticks\": \"\"}}, \"type\": \"histogram\"}], \"histogram2d\": [{\"colorbar\": {\"outlinewidth\": 0, \"ticks\": \"\"}, \"colorscale\": [[0.0, \"#0d0887\"], [0.1111111111111111, \"#46039f\"], [0.2222222222222222, \"#7201a8\"], [0.3333333333333333, \"#9c179e\"], [0.4444444444444444, \"#bd3786\"], [0.5555555555555556, \"#d8576b\"], [0.6666666666666666, \"#ed7953\"], [0.7777777777777778, \"#fb9f3a\"], [0.8888888888888888, \"#fdca26\"], [1.0, \"#f0f921\"]], \"type\": \"histogram2d\"}], \"histogram2dcontour\": [{\"colorbar\": {\"outlinewidth\": 0, \"ticks\": \"\"}, \"colorscale\": [[0.0, \"#0d0887\"], [0.1111111111111111, \"#46039f\"], [0.2222222222222222, \"#7201a8\"], [0.3333333333333333, \"#9c179e\"], [0.4444444444444444, \"#bd3786\"], [0.5555555555555556, \"#d8576b\"], [0.6666666666666666, \"#ed7953\"], [0.7777777777777778, \"#fb9f3a\"], [0.8888888888888888, \"#fdca26\"], [1.0, \"#f0f921\"]], \"type\": \"histogram2dcontour\"}], \"mesh3d\": [{\"colorbar\": {\"outlinewidth\": 0, \"ticks\": \"\"}, \"type\": \"mesh3d\"}], \"parcoords\": [{\"line\": {\"colorbar\": {\"outlinewidth\": 0, \"ticks\": \"\"}}, \"type\": \"parcoords\"}], \"scatter\": [{\"marker\": {\"colorbar\": {\"outlinewidth\": 0, \"ticks\": \"\"}}, \"type\": \"scatter\"}], \"scatter3d\": [{\"line\": {\"colorbar\": {\"outlinewidth\": 0, \"ticks\": \"\"}}, \"marker\": {\"colorbar\": {\"outlinewidth\": 0, \"ticks\": \"\"}}, \"type\": \"scatter3d\"}], \"scattercarpet\": [{\"marker\": {\"colorbar\": {\"outlinewidth\": 0, \"ticks\": \"\"}}, \"type\": \"scattercarpet\"}], \"scattergeo\": [{\"marker\": {\"colorbar\": {\"outlinewidth\": 0, \"ticks\": \"\"}}, \"type\": \"scattergeo\"}], \"scattergl\": [{\"marker\": {\"colorbar\": {\"outlinewidth\": 0, \"ticks\": \"\"}}, \"type\": \"scattergl\"}], \"scattermapbox\": [{\"marker\": {\"colorbar\": {\"outlinewidth\": 0, \"ticks\": \"\"}}, \"type\": \"scattermapbox\"}], \"scatterpolar\": [{\"marker\": {\"colorbar\": {\"outlinewidth\": 0, \"ticks\": \"\"}}, \"type\": \"scatterpolar\"}], \"scatterpolargl\": [{\"marker\": {\"colorbar\": {\"outlinewidth\": 0, \"ticks\": \"\"}}, \"type\": \"scatterpolargl\"}], \"scatterternary\": [{\"marker\": {\"colorbar\": {\"outlinewidth\": 0, \"ticks\": \"\"}}, \"type\": \"scatterternary\"}], \"surface\": [{\"colorbar\": {\"outlinewidth\": 0, \"ticks\": \"\"}, \"colorscale\": [[0.0, \"#0d0887\"], [0.1111111111111111, \"#46039f\"], [0.2222222222222222, \"#7201a8\"], [0.3333333333333333, \"#9c179e\"], [0.4444444444444444, \"#bd3786\"], [0.5555555555555556, \"#d8576b\"], [0.6666666666666666, \"#ed7953\"], [0.7777777777777778, \"#fb9f3a\"], [0.8888888888888888, \"#fdca26\"], [1.0, \"#f0f921\"]], \"type\": \"surface\"}], \"table\": [{\"cells\": {\"fill\": {\"color\": \"#EBF0F8\"}, \"line\": {\"color\": \"white\"}}, \"header\": {\"fill\": {\"color\": \"#C8D4E3\"}, \"line\": {\"color\": \"white\"}}, \"type\": \"table\"}]}, \"layout\": {\"annotationdefaults\": {\"arrowcolor\": \"#2a3f5f\", \"arrowhead\": 0, \"arrowwidth\": 1}, \"colorscale\": {\"diverging\": [[0, \"#8e0152\"], [0.1, \"#c51b7d\"], [0.2, \"#de77ae\"], [0.3, \"#f1b6da\"], [0.4, \"#fde0ef\"], [0.5, \"#f7f7f7\"], [0.6, \"#e6f5d0\"], [0.7, \"#b8e186\"], [0.8, \"#7fbc41\"], [0.9, \"#4d9221\"], [1, \"#276419\"]], \"sequential\": [[0.0, \"#0d0887\"], [0.1111111111111111, \"#46039f\"], [0.2222222222222222, \"#7201a8\"], [0.3333333333333333, \"#9c179e\"], [0.4444444444444444, \"#bd3786\"], [0.5555555555555556, \"#d8576b\"], [0.6666666666666666, \"#ed7953\"], [0.7777777777777778, \"#fb9f3a\"], [0.8888888888888888, \"#fdca26\"], [1.0, \"#f0f921\"]], \"sequentialminus\": [[0.0, \"#0d0887\"], [0.1111111111111111, \"#46039f\"], [0.2222222222222222, \"#7201a8\"], [0.3333333333333333, \"#9c179e\"], [0.4444444444444444, \"#bd3786\"], [0.5555555555555556, \"#d8576b\"], [0.6666666666666666, \"#ed7953\"], [0.7777777777777778, \"#fb9f3a\"], [0.8888888888888888, \"#fdca26\"], [1.0, \"#f0f921\"]]}, \"colorway\": [\"#636efa\", \"#EF553B\", \"#00cc96\", \"#ab63fa\", \"#FFA15A\", \"#19d3f3\", \"#FF6692\", \"#B6E880\", \"#FF97FF\", \"#FECB52\"], \"font\": {\"color\": \"#2a3f5f\"}, \"geo\": {\"bgcolor\": \"white\", \"lakecolor\": \"white\", \"landcolor\": \"#E5ECF6\", \"showlakes\": true, \"showland\": true, \"subunitcolor\": \"white\"}, \"hoverlabel\": {\"align\": \"left\"}, \"hovermode\": \"closest\", \"mapbox\": {\"style\": \"light\"}, \"paper_bgcolor\": \"white\", \"plot_bgcolor\": \"#E5ECF6\", \"polar\": {\"angularaxis\": {\"gridcolor\": \"white\", \"linecolor\": \"white\", \"ticks\": \"\"}, \"bgcolor\": \"#E5ECF6\", \"radialaxis\": {\"gridcolor\": \"white\", \"linecolor\": \"white\", \"ticks\": \"\"}}, \"scene\": {\"xaxis\": {\"backgroundcolor\": \"#E5ECF6\", \"gridcolor\": \"white\", \"gridwidth\": 2, \"linecolor\": \"white\", \"showbackground\": true, \"ticks\": \"\", \"zerolinecolor\": \"white\"}, \"yaxis\": {\"backgroundcolor\": \"#E5ECF6\", \"gridcolor\": \"white\", \"gridwidth\": 2, \"linecolor\": \"white\", \"showbackground\": true, \"ticks\": \"\", \"zerolinecolor\": \"white\"}, \"zaxis\": {\"backgroundcolor\": \"#E5ECF6\", \"gridcolor\": \"white\", \"gridwidth\": 2, \"linecolor\": \"white\", \"showbackground\": true, \"ticks\": \"\", \"zerolinecolor\": \"white\"}}, \"shapedefaults\": {\"line\": {\"color\": \"#2a3f5f\"}}, \"ternary\": {\"aaxis\": {\"gridcolor\": \"white\", \"linecolor\": \"white\", \"ticks\": \"\"}, \"baxis\": {\"gridcolor\": \"white\", \"linecolor\": \"white\", \"ticks\": \"\"}, \"bgcolor\": \"#E5ECF6\", \"caxis\": {\"gridcolor\": \"white\", \"linecolor\": \"white\", \"ticks\": \"\"}}, \"title\": {\"x\": 0.05}, \"xaxis\": {\"automargin\": true, \"gridcolor\": \"white\", \"linecolor\": \"white\", \"ticks\": \"\", \"zerolinecolor\": \"white\", \"zerolinewidth\": 2}, \"yaxis\": {\"automargin\": true, \"gridcolor\": \"white\", \"linecolor\": \"white\", \"ticks\": \"\", \"zerolinecolor\": \"white\", \"zerolinewidth\": 2}}}, \"width\": 800},\n",
       "                        {\"responsive\": true}\n",
       "                    ).then(function(){\n",
       "                            \n",
       "var gd = document.getElementById('b941da75-3f82-4a6c-870d-cd3bfe36a3af');\n",
       "var x = new MutationObserver(function (mutations, observer) {{\n",
       "        var display = window.getComputedStyle(gd).display;\n",
       "        if (!display || display === 'none') {{\n",
       "            console.log([gd, 'removed!']);\n",
       "            Plotly.purge(gd);\n",
       "            observer.disconnect();\n",
       "        }}\n",
       "}});\n",
       "\n",
       "// Listen for the removal of the full notebook cells\n",
       "var notebookContainer = gd.closest('#notebook-container');\n",
       "if (notebookContainer) {{\n",
       "    x.observe(notebookContainer, {childList: true});\n",
       "}}\n",
       "\n",
       "// Listen for the clearing of the current output cell\n",
       "var outputEl = gd.closest('.output');\n",
       "if (outputEl) {{\n",
       "    x.observe(outputEl, {childList: true});\n",
       "}}\n",
       "\n",
       "                        })\n",
       "                };\n",
       "                });\n",
       "            </script>\n",
       "        </div>"
      ]
     },
     "metadata": {},
     "output_type": "display_data"
    }
   ],
   "source": [
    "fig = go.Figure(data=data, layout=layout)\n",
    "fig.show()"
   ]
  },
  {
   "cell_type": "code",
   "execution_count": null,
   "metadata": {},
   "outputs": [],
   "source": []
  }
 ],
 "metadata": {
  "kernelspec": {
   "display_name": "Python 3",
   "language": "python",
   "name": "python3"
  },
  "language_info": {
   "codemirror_mode": {
    "name": "ipython",
    "version": 3
   },
   "file_extension": ".py",
   "mimetype": "text/x-python",
   "name": "python",
   "nbconvert_exporter": "python",
   "pygments_lexer": "ipython3",
   "version": "3.7.4"
  }
 },
 "nbformat": 4,
 "nbformat_minor": 2
}
