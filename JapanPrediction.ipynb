{
 "cells": [
  {
   "cell_type": "code",
   "execution_count": 1,
   "metadata": {},
   "outputs": [],
   "source": [
    "import warnings\n",
    "warnings.filterwarnings(\"ignore\")\n",
    "\n",
    "import pandas as pd\n",
    "import matplotlib.pyplot as plt\n",
    "%matplotlib inline\n",
    "\n",
    "import numpy as np\n",
    "import scipy.stats as stats\n",
    "\n",
    "from sklearn.model_selection import (cross_val_predict, cross_val_score, train_test_split, GridSearchCV)\n",
    "from sklearn import preprocessing\n",
    "from sklearn.svm import SVC\n",
    "from sklearn.preprocessing import LabelEncoder\n",
    "from sklearn.ensemble import RandomForestRegressor"
   ]
  },
  {
   "cell_type": "code",
   "execution_count": 2,
   "metadata": {},
   "outputs": [
    {
     "data": {
      "text/html": [
       "<div>\n",
       "<style scoped>\n",
       "    .dataframe tbody tr th:only-of-type {\n",
       "        vertical-align: middle;\n",
       "    }\n",
       "\n",
       "    .dataframe tbody tr th {\n",
       "        vertical-align: top;\n",
       "    }\n",
       "\n",
       "    .dataframe thead th {\n",
       "        text-align: right;\n",
       "    }\n",
       "</style>\n",
       "<table border=\"1\" class=\"dataframe\">\n",
       "  <thead>\n",
       "    <tr style=\"text-align: right;\">\n",
       "      <th></th>\n",
       "      <th>Date</th>\n",
       "      <th>Time</th>\n",
       "      <th>Latitude</th>\n",
       "      <th>Longitude</th>\n",
       "      <th>Type</th>\n",
       "      <th>Depth</th>\n",
       "      <th>Depth Error</th>\n",
       "      <th>Depth Seismic Stations</th>\n",
       "      <th>Magnitude</th>\n",
       "      <th>Magnitude Type</th>\n",
       "      <th>...</th>\n",
       "      <th>Azimuthal Gap</th>\n",
       "      <th>Horizontal Distance</th>\n",
       "      <th>Horizontal Error</th>\n",
       "      <th>Root Mean Square</th>\n",
       "      <th>ID</th>\n",
       "      <th>Source</th>\n",
       "      <th>Location Source</th>\n",
       "      <th>Magnitude Source</th>\n",
       "      <th>Status</th>\n",
       "      <th>Place</th>\n",
       "    </tr>\n",
       "  </thead>\n",
       "  <tbody>\n",
       "    <tr>\n",
       "      <td>0</td>\n",
       "      <td>01/02/1965</td>\n",
       "      <td>13:44:18</td>\n",
       "      <td>19.246</td>\n",
       "      <td>145.616</td>\n",
       "      <td>Earthquake</td>\n",
       "      <td>131.6</td>\n",
       "      <td>NaN</td>\n",
       "      <td>NaN</td>\n",
       "      <td>6.0</td>\n",
       "      <td>MW</td>\n",
       "      <td>...</td>\n",
       "      <td>NaN</td>\n",
       "      <td>NaN</td>\n",
       "      <td>NaN</td>\n",
       "      <td>NaN</td>\n",
       "      <td>ISCGEM860706</td>\n",
       "      <td>ISCGEM</td>\n",
       "      <td>ISCGEM</td>\n",
       "      <td>ISCGEM</td>\n",
       "      <td>Automatic</td>\n",
       "      <td>Unknown</td>\n",
       "    </tr>\n",
       "    <tr>\n",
       "      <td>1</td>\n",
       "      <td>01/04/1965</td>\n",
       "      <td>11:29:49</td>\n",
       "      <td>1.863</td>\n",
       "      <td>127.352</td>\n",
       "      <td>Earthquake</td>\n",
       "      <td>80.0</td>\n",
       "      <td>NaN</td>\n",
       "      <td>NaN</td>\n",
       "      <td>5.8</td>\n",
       "      <td>MW</td>\n",
       "      <td>...</td>\n",
       "      <td>NaN</td>\n",
       "      <td>NaN</td>\n",
       "      <td>NaN</td>\n",
       "      <td>NaN</td>\n",
       "      <td>ISCGEM860737</td>\n",
       "      <td>ISCGEM</td>\n",
       "      <td>ISCGEM</td>\n",
       "      <td>ISCGEM</td>\n",
       "      <td>Automatic</td>\n",
       "      <td>Ngidihopitonu, ID</td>\n",
       "    </tr>\n",
       "    <tr>\n",
       "      <td>2</td>\n",
       "      <td>01/05/1965</td>\n",
       "      <td>18:05:58</td>\n",
       "      <td>-20.579</td>\n",
       "      <td>-173.972</td>\n",
       "      <td>Earthquake</td>\n",
       "      <td>20.0</td>\n",
       "      <td>NaN</td>\n",
       "      <td>NaN</td>\n",
       "      <td>6.2</td>\n",
       "      <td>MW</td>\n",
       "      <td>...</td>\n",
       "      <td>NaN</td>\n",
       "      <td>NaN</td>\n",
       "      <td>NaN</td>\n",
       "      <td>NaN</td>\n",
       "      <td>ISCGEM860762</td>\n",
       "      <td>ISCGEM</td>\n",
       "      <td>ISCGEM</td>\n",
       "      <td>ISCGEM</td>\n",
       "      <td>Automatic</td>\n",
       "      <td>Pangai, TO</td>\n",
       "    </tr>\n",
       "    <tr>\n",
       "      <td>3</td>\n",
       "      <td>01/08/1965</td>\n",
       "      <td>18:49:43</td>\n",
       "      <td>-59.076</td>\n",
       "      <td>-23.557</td>\n",
       "      <td>Earthquake</td>\n",
       "      <td>15.0</td>\n",
       "      <td>NaN</td>\n",
       "      <td>NaN</td>\n",
       "      <td>5.8</td>\n",
       "      <td>MW</td>\n",
       "      <td>...</td>\n",
       "      <td>NaN</td>\n",
       "      <td>NaN</td>\n",
       "      <td>NaN</td>\n",
       "      <td>NaN</td>\n",
       "      <td>ISCGEM860856</td>\n",
       "      <td>ISCGEM</td>\n",
       "      <td>ISCGEM</td>\n",
       "      <td>ISCGEM</td>\n",
       "      <td>Automatic</td>\n",
       "      <td>Unknown</td>\n",
       "    </tr>\n",
       "    <tr>\n",
       "      <td>4</td>\n",
       "      <td>01/09/1965</td>\n",
       "      <td>13:32:50</td>\n",
       "      <td>11.938</td>\n",
       "      <td>126.427</td>\n",
       "      <td>Earthquake</td>\n",
       "      <td>15.0</td>\n",
       "      <td>NaN</td>\n",
       "      <td>NaN</td>\n",
       "      <td>5.8</td>\n",
       "      <td>MW</td>\n",
       "      <td>...</td>\n",
       "      <td>NaN</td>\n",
       "      <td>NaN</td>\n",
       "      <td>NaN</td>\n",
       "      <td>NaN</td>\n",
       "      <td>ISCGEM860890</td>\n",
       "      <td>ISCGEM</td>\n",
       "      <td>ISCGEM</td>\n",
       "      <td>ISCGEM</td>\n",
       "      <td>Automatic</td>\n",
       "      <td>Dapdap, PH</td>\n",
       "    </tr>\n",
       "  </tbody>\n",
       "</table>\n",
       "<p>5 rows × 22 columns</p>\n",
       "</div>"
      ],
      "text/plain": [
       "         Date      Time  Latitude  Longitude        Type  Depth  Depth Error  \\\n",
       "0  01/02/1965  13:44:18    19.246    145.616  Earthquake  131.6          NaN   \n",
       "1  01/04/1965  11:29:49     1.863    127.352  Earthquake   80.0          NaN   \n",
       "2  01/05/1965  18:05:58   -20.579   -173.972  Earthquake   20.0          NaN   \n",
       "3  01/08/1965  18:49:43   -59.076    -23.557  Earthquake   15.0          NaN   \n",
       "4  01/09/1965  13:32:50    11.938    126.427  Earthquake   15.0          NaN   \n",
       "\n",
       "   Depth Seismic Stations  Magnitude Magnitude Type  ...  Azimuthal Gap  \\\n",
       "0                     NaN        6.0             MW  ...            NaN   \n",
       "1                     NaN        5.8             MW  ...            NaN   \n",
       "2                     NaN        6.2             MW  ...            NaN   \n",
       "3                     NaN        5.8             MW  ...            NaN   \n",
       "4                     NaN        5.8             MW  ...            NaN   \n",
       "\n",
       "   Horizontal Distance  Horizontal Error  Root Mean Square            ID  \\\n",
       "0                  NaN               NaN               NaN  ISCGEM860706   \n",
       "1                  NaN               NaN               NaN  ISCGEM860737   \n",
       "2                  NaN               NaN               NaN  ISCGEM860762   \n",
       "3                  NaN               NaN               NaN  ISCGEM860856   \n",
       "4                  NaN               NaN               NaN  ISCGEM860890   \n",
       "\n",
       "   Source Location Source Magnitude Source     Status              Place  \n",
       "0  ISCGEM          ISCGEM           ISCGEM  Automatic            Unknown  \n",
       "1  ISCGEM          ISCGEM           ISCGEM  Automatic  Ngidihopitonu, ID  \n",
       "2  ISCGEM          ISCGEM           ISCGEM  Automatic         Pangai, TO  \n",
       "3  ISCGEM          ISCGEM           ISCGEM  Automatic            Unknown  \n",
       "4  ISCGEM          ISCGEM           ISCGEM  Automatic         Dapdap, PH  \n",
       "\n",
       "[5 rows x 22 columns]"
      ]
     },
     "execution_count": 2,
     "metadata": {},
     "output_type": "execute_result"
    }
   ],
   "source": [
    "qdb = pd.read_csv('quake_db_1965-2016.csv')\n",
    "qdb.head()"
   ]
  },
  {
   "cell_type": "code",
   "execution_count": 3,
   "metadata": {},
   "outputs": [
    {
     "data": {
      "text/plain": [
       "Index(['Date', 'Time', 'Latitude', 'Longitude', 'Type', 'Depth', 'Depth Error',\n",
       "       'Depth Seismic Stations', 'Magnitude', 'Magnitude Type',\n",
       "       'Magnitude Error', 'Magnitude Seismic Stations', 'Azimuthal Gap',\n",
       "       'Horizontal Distance', 'Horizontal Error', 'Root Mean Square', 'ID',\n",
       "       'Source', 'Location Source', 'Magnitude Source', 'Status', 'Place'],\n",
       "      dtype='object')"
      ]
     },
     "execution_count": 3,
     "metadata": {},
     "output_type": "execute_result"
    }
   ],
   "source": [
    "qdb.columns"
   ]
  },
  {
   "cell_type": "code",
   "execution_count": 4,
   "metadata": {},
   "outputs": [
    {
     "data": {
      "text/plain": [
       "<matplotlib.axes._subplots.AxesSubplot at 0x7f41afb61250>"
      ]
     },
     "execution_count": 4,
     "metadata": {},
     "output_type": "execute_result"
    },
    {
     "data": {
      "image/png": "[encoded data removed]",
      "text/plain": [
       "<Figure size 432x288 with 1 Axes>"
      ]
     },
     "metadata": {
      "needs_background": "light"
     },
     "output_type": "display_data"
    }
   ],
   "source": [
    "qdb['Type'].value_counts().plot(kind='bar')"
   ]
  },
  {
   "cell_type": "code",
   "execution_count": 5,
   "metadata": {
    "scrolled": true
   },
   "outputs": [
    {
     "data": {
      "text/plain": [
       "<matplotlib.axes._subplots.AxesSubplot at 0x7f41afb09550>"
      ]
     },
     "execution_count": 5,
     "metadata": {},
     "output_type": "execute_result"
    },
    {
     "data": {
      "image/png": "[encoded data removed]",
      "text/plain": [
       "<Figure size 432x288 with 1 Axes>"
      ]
     },
     "metadata": {
      "needs_background": "light"
     },
     "output_type": "display_data"
    }
   ],
   "source": [
    "qdb['Magnitude Type'].value_counts().plot(kind='bar')"
   ]
  },
  {
   "cell_type": "code",
   "execution_count": 6,
   "metadata": {
    "scrolled": true
   },
   "outputs": [
    {
     "data": {
      "text/html": [
       "<div>\n",
       "<style scoped>\n",
       "    .dataframe tbody tr th:only-of-type {\n",
       "        vertical-align: middle;\n",
       "    }\n",
       "\n",
       "    .dataframe tbody tr th {\n",
       "        vertical-align: top;\n",
       "    }\n",
       "\n",
       "    .dataframe thead th {\n",
       "        text-align: right;\n",
       "    }\n",
       "</style>\n",
       "<table border=\"1\" class=\"dataframe\">\n",
       "  <thead>\n",
       "    <tr style=\"text-align: right;\">\n",
       "      <th></th>\n",
       "      <th>Date</th>\n",
       "      <th>Time</th>\n",
       "      <th>Latitude</th>\n",
       "      <th>Longitude</th>\n",
       "      <th>Type</th>\n",
       "      <th>Depth</th>\n",
       "      <th>Depth Error</th>\n",
       "      <th>Depth Seismic Stations</th>\n",
       "      <th>Magnitude</th>\n",
       "      <th>Magnitude Type</th>\n",
       "      <th>...</th>\n",
       "      <th>Azimuthal Gap</th>\n",
       "      <th>Horizontal Distance</th>\n",
       "      <th>Horizontal Error</th>\n",
       "      <th>Root Mean Square</th>\n",
       "      <th>ID</th>\n",
       "      <th>Source</th>\n",
       "      <th>Location Source</th>\n",
       "      <th>Magnitude Source</th>\n",
       "      <th>Status</th>\n",
       "      <th>Place</th>\n",
       "    </tr>\n",
       "  </thead>\n",
       "  <tbody>\n",
       "    <tr>\n",
       "      <td>55</td>\n",
       "      <td>02/16/1965</td>\n",
       "      <td>12:24:10</td>\n",
       "      <td>38.908</td>\n",
       "      <td>142.095</td>\n",
       "      <td>Earthquake</td>\n",
       "      <td>53.5</td>\n",
       "      <td>NaN</td>\n",
       "      <td>NaN</td>\n",
       "      <td>5.7</td>\n",
       "      <td>MW</td>\n",
       "      <td>...</td>\n",
       "      <td>NaN</td>\n",
       "      <td>NaN</td>\n",
       "      <td>NaN</td>\n",
       "      <td>NaN</td>\n",
       "      <td>ISCGEM860246</td>\n",
       "      <td>ISCGEM</td>\n",
       "      <td>ISCGEM</td>\n",
       "      <td>ISCGEM</td>\n",
       "      <td>Automatic</td>\n",
       "      <td>Ofunato, JP</td>\n",
       "    </tr>\n",
       "    <tr>\n",
       "      <td>89</td>\n",
       "      <td>03/16/1965</td>\n",
       "      <td>16:46:17</td>\n",
       "      <td>40.697</td>\n",
       "      <td>143.032</td>\n",
       "      <td>Earthquake</td>\n",
       "      <td>32.1</td>\n",
       "      <td>NaN</td>\n",
       "      <td>NaN</td>\n",
       "      <td>6.4</td>\n",
       "      <td>MW</td>\n",
       "      <td>...</td>\n",
       "      <td>NaN</td>\n",
       "      <td>NaN</td>\n",
       "      <td>NaN</td>\n",
       "      <td>NaN</td>\n",
       "      <td>ISCGEM858655</td>\n",
       "      <td>ISCGEM</td>\n",
       "      <td>ISCGEM</td>\n",
       "      <td>ISCGEM</td>\n",
       "      <td>Automatic</td>\n",
       "      <td>Kuji, JP</td>\n",
       "    </tr>\n",
       "    <tr>\n",
       "      <td>101</td>\n",
       "      <td>03/29/1965</td>\n",
       "      <td>10:47:38</td>\n",
       "      <td>40.687</td>\n",
       "      <td>142.915</td>\n",
       "      <td>Earthquake</td>\n",
       "      <td>30.0</td>\n",
       "      <td>NaN</td>\n",
       "      <td>NaN</td>\n",
       "      <td>6.4</td>\n",
       "      <td>MW</td>\n",
       "      <td>...</td>\n",
       "      <td>NaN</td>\n",
       "      <td>NaN</td>\n",
       "      <td>NaN</td>\n",
       "      <td>NaN</td>\n",
       "      <td>ISCGEM858966</td>\n",
       "      <td>ISCGEM</td>\n",
       "      <td>ISCGEM</td>\n",
       "      <td>ISCGEM</td>\n",
       "      <td>Automatic</td>\n",
       "      <td>Kuji, JP</td>\n",
       "    </tr>\n",
       "    <tr>\n",
       "      <td>111</td>\n",
       "      <td>04/06/1965</td>\n",
       "      <td>05:31:59</td>\n",
       "      <td>36.083</td>\n",
       "      <td>139.968</td>\n",
       "      <td>Earthquake</td>\n",
       "      <td>50.0</td>\n",
       "      <td>NaN</td>\n",
       "      <td>NaN</td>\n",
       "      <td>5.7</td>\n",
       "      <td>MW</td>\n",
       "      <td>...</td>\n",
       "      <td>NaN</td>\n",
       "      <td>NaN</td>\n",
       "      <td>NaN</td>\n",
       "      <td>NaN</td>\n",
       "      <td>ISCGEM857506</td>\n",
       "      <td>ISCGEM</td>\n",
       "      <td>ISCGEM</td>\n",
       "      <td>ISCGEM</td>\n",
       "      <td>Automatic</td>\n",
       "      <td>Ishige, JP</td>\n",
       "    </tr>\n",
       "    <tr>\n",
       "      <td>122</td>\n",
       "      <td>04/15/1965</td>\n",
       "      <td>05:09:50</td>\n",
       "      <td>25.080</td>\n",
       "      <td>122.897</td>\n",
       "      <td>Earthquake</td>\n",
       "      <td>165.0</td>\n",
       "      <td>NaN</td>\n",
       "      <td>NaN</td>\n",
       "      <td>5.6</td>\n",
       "      <td>MW</td>\n",
       "      <td>...</td>\n",
       "      <td>NaN</td>\n",
       "      <td>NaN</td>\n",
       "      <td>NaN</td>\n",
       "      <td>NaN</td>\n",
       "      <td>ISCGEM857769</td>\n",
       "      <td>ISCGEM</td>\n",
       "      <td>ISCGEM</td>\n",
       "      <td>ISCGEM</td>\n",
       "      <td>Automatic</td>\n",
       "      <td>Yonakuni, JP</td>\n",
       "    </tr>\n",
       "  </tbody>\n",
       "</table>\n",
       "<p>5 rows × 22 columns</p>\n",
       "</div>"
      ],
      "text/plain": [
       "           Date      Time  Latitude  Longitude        Type  Depth  \\\n",
       "55   02/16/1965  12:24:10    38.908    142.095  Earthquake   53.5   \n",
       "89   03/16/1965  16:46:17    40.697    143.032  Earthquake   32.1   \n",
       "101  03/29/1965  10:47:38    40.687    142.915  Earthquake   30.0   \n",
       "111  04/06/1965  05:31:59    36.083    139.968  Earthquake   50.0   \n",
       "122  04/15/1965  05:09:50    25.080    122.897  Earthquake  165.0   \n",
       "\n",
       "     Depth Error  Depth Seismic Stations  Magnitude Magnitude Type  ...  \\\n",
       "55           NaN                     NaN        5.7             MW  ...   \n",
       "89           NaN                     NaN        6.4             MW  ...   \n",
       "101          NaN                     NaN        6.4             MW  ...   \n",
       "111          NaN                     NaN        5.7             MW  ...   \n",
       "122          NaN                     NaN        5.6             MW  ...   \n",
       "\n",
       "     Azimuthal Gap  Horizontal Distance  Horizontal Error  Root Mean Square  \\\n",
       "55             NaN                  NaN               NaN               NaN   \n",
       "89             NaN                  NaN               NaN               NaN   \n",
       "101            NaN                  NaN               NaN               NaN   \n",
       "111            NaN                  NaN               NaN               NaN   \n",
       "122            NaN                  NaN               NaN               NaN   \n",
       "\n",
       "               ID  Source Location Source Magnitude Source     Status  \\\n",
       "55   ISCGEM860246  ISCGEM          ISCGEM           ISCGEM  Automatic   \n",
       "89   ISCGEM858655  ISCGEM          ISCGEM           ISCGEM  Automatic   \n",
       "101  ISCGEM858966  ISCGEM          ISCGEM           ISCGEM  Automatic   \n",
       "111  ISCGEM857506  ISCGEM          ISCGEM           ISCGEM  Automatic   \n",
       "122  ISCGEM857769  ISCGEM          ISCGEM           ISCGEM  Automatic   \n",
       "\n",
       "            Place  \n",
       "55    Ofunato, JP  \n",
       "89       Kuji, JP  \n",
       "101      Kuji, JP  \n",
       "111    Ishige, JP  \n",
       "122  Yonakuni, JP  \n",
       "\n",
       "[5 rows x 22 columns]"
      ]
     },
     "execution_count": 6,
     "metadata": {},
     "output_type": "execute_result"
    }
   ],
   "source": [
    "japan = qdb[qdb['Place'].str.contains('JP')]\n",
    "japan.head()"
   ]
  },
  {
   "cell_type": "code",
   "execution_count": 7,
   "metadata": {
    "scrolled": true
   },
   "outputs": [
    {
     "data": {
      "text/plain": [
       "(1347, 22)"
      ]
     },
     "execution_count": 7,
     "metadata": {},
     "output_type": "execute_result"
    }
   ],
   "source": [
    "japan.shape"
   ]
  },
  {
   "cell_type": "code",
   "execution_count": 8,
   "metadata": {},
   "outputs": [],
   "source": [
    "def nan_helper(y):    \n",
    "    return np.isnan(y), lambda z: z.nonzero()[0]"
   ]
  },
  {
   "cell_type": "code",
   "execution_count": 9,
   "metadata": {},
   "outputs": [],
   "source": [
    "def get_interpolation(my_df, nan_series):\n",
    "    arr_series = np.array(my_df[str(nan_series)])\n",
    "    nans, x = nan_helper(arr_series)\n",
    "    arr_series[nans] = np.interp(x(nans), x(~nans), arr_series[~nans])\n",
    "    return arr_series.round(2)"
   ]
  },
  {
   "cell_type": "code",
   "execution_count": 10,
   "metadata": {},
   "outputs": [],
   "source": [
    "japan.loc[:, 'Depth Error'] = get_interpolation(japan, 'Depth Error')\n",
    "japan.loc[:, 'Depth Seismic Stations'] = get_interpolation(japan, 'Depth Seismic Stations')\n",
    "japan.loc[:, 'Magnitude Error'] = get_interpolation(japan, 'Magnitude Error')\n",
    "japan.loc[:, 'Magnitude Seismic Stations'] = get_interpolation(japan, 'Magnitude Seismic Stations')\n",
    "japan.loc[:, 'Azimuthal Gap'] = get_interpolation(japan, 'Azimuthal Gap')\n",
    "japan.loc[:, 'Horizontal Distance'] = get_interpolation(japan, 'Horizontal Distance')\n",
    "japan.loc[:, 'Horizontal Error'] = get_interpolation(japan, 'Horizontal Error')\n",
    "japan.loc[:, 'Root Mean Square'] = get_interpolation(japan, 'Root Mean Square')"
   ]
  },
  {
   "cell_type": "code",
   "execution_count": 11,
   "metadata": {},
   "outputs": [],
   "source": [
    "def label_integer_encoder(my_df, series_name):\n",
    "    arr_name = np.array(list(my_df[str(series_name)]))\n",
    "    label_arr_encoder = LabelEncoder()\n",
    "    integer_arr_encoded = label_arr_encoder.fit_transform(arr_name)\n",
    "    return integer_arr_encoded"
   ]
  },
  {
   "cell_type": "code",
   "execution_count": 12,
   "metadata": {},
   "outputs": [],
   "source": [
    "japan.loc[:, 'Type'] = label_integer_encoder(japan, 'Type')\n",
    "japan.loc[:, 'Status'] = label_integer_encoder(japan, 'Status')\n",
    "japan.loc[:, 'Magnitude Type'] = label_integer_encoder(japan, 'Magnitude Type')\n",
    "japan.loc[:, 'Place'] = label_integer_encoder(japan, 'Place')"
   ]
  },
  {
   "cell_type": "code",
   "execution_count": 13,
   "metadata": {},
   "outputs": [
    {
     "data": {
      "text/html": [
       "<div>\n",
       "<style scoped>\n",
       "    .dataframe tbody tr th:only-of-type {\n",
       "        vertical-align: middle;\n",
       "    }\n",
       "\n",
       "    .dataframe tbody tr th {\n",
       "        vertical-align: top;\n",
       "    }\n",
       "\n",
       "    .dataframe thead th {\n",
       "        text-align: right;\n",
       "    }\n",
       "</style>\n",
       "<table border=\"1\" class=\"dataframe\">\n",
       "  <thead>\n",
       "    <tr style=\"text-align: right;\">\n",
       "      <th></th>\n",
       "      <th>Date</th>\n",
       "      <th>Time</th>\n",
       "      <th>Latitude</th>\n",
       "      <th>Longitude</th>\n",
       "      <th>Type</th>\n",
       "      <th>Depth</th>\n",
       "      <th>Depth Error</th>\n",
       "      <th>Depth Seismic Stations</th>\n",
       "      <th>Magnitude</th>\n",
       "      <th>Magnitude Type</th>\n",
       "      <th>...</th>\n",
       "      <th>Azimuthal Gap</th>\n",
       "      <th>Horizontal Distance</th>\n",
       "      <th>Horizontal Error</th>\n",
       "      <th>Root Mean Square</th>\n",
       "      <th>ID</th>\n",
       "      <th>Source</th>\n",
       "      <th>Location Source</th>\n",
       "      <th>Magnitude Source</th>\n",
       "      <th>Status</th>\n",
       "      <th>Place</th>\n",
       "    </tr>\n",
       "  </thead>\n",
       "  <tbody>\n",
       "    <tr>\n",
       "      <td>55</td>\n",
       "      <td>02/16/1965</td>\n",
       "      <td>12:24:10</td>\n",
       "      <td>38.908</td>\n",
       "      <td>142.095</td>\n",
       "      <td>0</td>\n",
       "      <td>53.5</td>\n",
       "      <td>3.1</td>\n",
       "      <td>412.0</td>\n",
       "      <td>5.7</td>\n",
       "      <td>2</td>\n",
       "      <td>...</td>\n",
       "      <td>112.5</td>\n",
       "      <td>3.36</td>\n",
       "      <td>5.9</td>\n",
       "      <td>1.0</td>\n",
       "      <td>ISCGEM860246</td>\n",
       "      <td>ISCGEM</td>\n",
       "      <td>ISCGEM</td>\n",
       "      <td>ISCGEM</td>\n",
       "      <td>0</td>\n",
       "      <td>133</td>\n",
       "    </tr>\n",
       "    <tr>\n",
       "      <td>89</td>\n",
       "      <td>03/16/1965</td>\n",
       "      <td>16:46:17</td>\n",
       "      <td>40.697</td>\n",
       "      <td>143.032</td>\n",
       "      <td>0</td>\n",
       "      <td>32.1</td>\n",
       "      <td>3.1</td>\n",
       "      <td>412.0</td>\n",
       "      <td>6.4</td>\n",
       "      <td>2</td>\n",
       "      <td>...</td>\n",
       "      <td>112.5</td>\n",
       "      <td>3.36</td>\n",
       "      <td>5.9</td>\n",
       "      <td>1.0</td>\n",
       "      <td>ISCGEM858655</td>\n",
       "      <td>ISCGEM</td>\n",
       "      <td>ISCGEM</td>\n",
       "      <td>ISCGEM</td>\n",
       "      <td>0</td>\n",
       "      <td>81</td>\n",
       "    </tr>\n",
       "    <tr>\n",
       "      <td>101</td>\n",
       "      <td>03/29/1965</td>\n",
       "      <td>10:47:38</td>\n",
       "      <td>40.687</td>\n",
       "      <td>142.915</td>\n",
       "      <td>0</td>\n",
       "      <td>30.0</td>\n",
       "      <td>3.1</td>\n",
       "      <td>412.0</td>\n",
       "      <td>6.4</td>\n",
       "      <td>2</td>\n",
       "      <td>...</td>\n",
       "      <td>112.5</td>\n",
       "      <td>3.36</td>\n",
       "      <td>5.9</td>\n",
       "      <td>1.0</td>\n",
       "      <td>ISCGEM858966</td>\n",
       "      <td>ISCGEM</td>\n",
       "      <td>ISCGEM</td>\n",
       "      <td>ISCGEM</td>\n",
       "      <td>0</td>\n",
       "      <td>81</td>\n",
       "    </tr>\n",
       "    <tr>\n",
       "      <td>111</td>\n",
       "      <td>04/06/1965</td>\n",
       "      <td>05:31:59</td>\n",
       "      <td>36.083</td>\n",
       "      <td>139.968</td>\n",
       "      <td>0</td>\n",
       "      <td>50.0</td>\n",
       "      <td>3.1</td>\n",
       "      <td>412.0</td>\n",
       "      <td>5.7</td>\n",
       "      <td>2</td>\n",
       "      <td>...</td>\n",
       "      <td>112.5</td>\n",
       "      <td>3.36</td>\n",
       "      <td>5.9</td>\n",
       "      <td>1.0</td>\n",
       "      <td>ISCGEM857506</td>\n",
       "      <td>ISCGEM</td>\n",
       "      <td>ISCGEM</td>\n",
       "      <td>ISCGEM</td>\n",
       "      <td>0</td>\n",
       "      <td>42</td>\n",
       "    </tr>\n",
       "    <tr>\n",
       "      <td>122</td>\n",
       "      <td>04/15/1965</td>\n",
       "      <td>05:09:50</td>\n",
       "      <td>25.080</td>\n",
       "      <td>122.897</td>\n",
       "      <td>0</td>\n",
       "      <td>165.0</td>\n",
       "      <td>3.1</td>\n",
       "      <td>412.0</td>\n",
       "      <td>5.6</td>\n",
       "      <td>2</td>\n",
       "      <td>...</td>\n",
       "      <td>112.5</td>\n",
       "      <td>3.36</td>\n",
       "      <td>5.9</td>\n",
       "      <td>1.0</td>\n",
       "      <td>ISCGEM857769</td>\n",
       "      <td>ISCGEM</td>\n",
       "      <td>ISCGEM</td>\n",
       "      <td>ISCGEM</td>\n",
       "      <td>0</td>\n",
       "      <td>229</td>\n",
       "    </tr>\n",
       "  </tbody>\n",
       "</table>\n",
       "<p>5 rows × 22 columns</p>\n",
       "</div>"
      ],
      "text/plain": [
       "           Date      Time  Latitude  Longitude  Type  Depth  Depth Error  \\\n",
       "55   02/16/1965  12:24:10    38.908    142.095     0   53.5          3.1   \n",
       "89   03/16/1965  16:46:17    40.697    143.032     0   32.1          3.1   \n",
       "101  03/29/1965  10:47:38    40.687    142.915     0   30.0          3.1   \n",
       "111  04/06/1965  05:31:59    36.083    139.968     0   50.0          3.1   \n",
       "122  04/15/1965  05:09:50    25.080    122.897     0  165.0          3.1   \n",
       "\n",
       "     Depth Seismic Stations  Magnitude  Magnitude Type  ...  Azimuthal Gap  \\\n",
       "55                    412.0        5.7               2  ...          112.5   \n",
       "89                    412.0        6.4               2  ...          112.5   \n",
       "101                   412.0        6.4               2  ...          112.5   \n",
       "111                   412.0        5.7               2  ...          112.5   \n",
       "122                   412.0        5.6               2  ...          112.5   \n",
       "\n",
       "     Horizontal Distance  Horizontal Error  Root Mean Square            ID  \\\n",
       "55                  3.36               5.9               1.0  ISCGEM860246   \n",
       "89                  3.36               5.9               1.0  ISCGEM858655   \n",
       "101                 3.36               5.9               1.0  ISCGEM858966   \n",
       "111                 3.36               5.9               1.0  ISCGEM857506   \n",
       "122                 3.36               5.9               1.0  ISCGEM857769   \n",
       "\n",
       "     Source Location Source Magnitude Source Status Place  \n",
       "55   ISCGEM          ISCGEM           ISCGEM      0   133  \n",
       "89   ISCGEM          ISCGEM           ISCGEM      0    81  \n",
       "101  ISCGEM          ISCGEM           ISCGEM      0    81  \n",
       "111  ISCGEM          ISCGEM           ISCGEM      0    42  \n",
       "122  ISCGEM          ISCGEM           ISCGEM      0   229  \n",
       "\n",
       "[5 rows x 22 columns]"
      ]
     },
     "execution_count": 13,
     "metadata": {},
     "output_type": "execute_result"
    }
   ],
   "source": [
    "japan.head()"
   ]
  },
  {
   "cell_type": "code",
   "execution_count": 14,
   "metadata": {
    "scrolled": false
   },
   "outputs": [
    {
     "data": {
      "image/png": "[encoded data removed]",
      "text/plain": [
       "<Figure size 432x288 with 1 Axes>"
      ]
     },
     "metadata": {
      "needs_background": "light"
     },
     "output_type": "display_data"
    }
   ],
   "source": [
    "plt.scatter(japan['Magnitude'], japan['Depth'])\n",
    "plt.show()"
   ]
  },
  {
   "cell_type": "code",
   "execution_count": 15,
   "metadata": {},
   "outputs": [
    {
     "data": {
      "text/plain": [
       "<matplotlib.axes._subplots.AxesSubplot at 0x7f41af9bba50>"
      ]
     },
     "execution_count": 15,
     "metadata": {},
     "output_type": "execute_result"
    },
    {
     "data": {
      "image/png": "[encoded data removed]",
      "text/plain": [
       "<Figure size 432x288 with 1 Axes>"
      ]
     },
     "metadata": {
      "needs_background": "light"
     },
     "output_type": "display_data"
    }
   ],
   "source": [
    "japan['Magnitude Type'].value_counts().plot(kind='bar')"
   ]
  },
  {
   "cell_type": "code",
   "execution_count": 16,
   "metadata": {},
   "outputs": [],
   "source": [
    "X = japan[['Magnitude', 'Depth', 'Magnitude Error', 'Magnitude Type', 'Depth Error', 'Azimuthal Gap', \n",
    "           'Horizontal Distance', 'Horizontal Error', 'Root Mean Square', 'Place']]\n",
    "y = japan[['Latitude', 'Longitude']]"
   ]
  },
  {
   "cell_type": "code",
   "execution_count": 17,
   "metadata": {},
   "outputs": [
    {
     "data": {
      "text/html": [
       "<div>\n",
       "<style scoped>\n",
       "    .dataframe tbody tr th:only-of-type {\n",
       "        vertical-align: middle;\n",
       "    }\n",
       "\n",
       "    .dataframe tbody tr th {\n",
       "        vertical-align: top;\n",
       "    }\n",
       "\n",
       "    .dataframe thead th {\n",
       "        text-align: right;\n",
       "    }\n",
       "</style>\n",
       "<table border=\"1\" class=\"dataframe\">\n",
       "  <thead>\n",
       "    <tr style=\"text-align: right;\">\n",
       "      <th></th>\n",
       "      <th>Magnitude</th>\n",
       "      <th>Depth</th>\n",
       "      <th>Magnitude Error</th>\n",
       "      <th>Magnitude Type</th>\n",
       "      <th>Depth Error</th>\n",
       "      <th>Azimuthal Gap</th>\n",
       "      <th>Horizontal Distance</th>\n",
       "      <th>Horizontal Error</th>\n",
       "      <th>Root Mean Square</th>\n",
       "      <th>Place</th>\n",
       "    </tr>\n",
       "  </thead>\n",
       "  <tbody>\n",
       "    <tr>\n",
       "      <td>55</td>\n",
       "      <td>5.7</td>\n",
       "      <td>53.5</td>\n",
       "      <td>0.04</td>\n",
       "      <td>2</td>\n",
       "      <td>3.1</td>\n",
       "      <td>112.5</td>\n",
       "      <td>3.36</td>\n",
       "      <td>5.9</td>\n",
       "      <td>1.0</td>\n",
       "      <td>133</td>\n",
       "    </tr>\n",
       "    <tr>\n",
       "      <td>89</td>\n",
       "      <td>6.4</td>\n",
       "      <td>32.1</td>\n",
       "      <td>0.04</td>\n",
       "      <td>2</td>\n",
       "      <td>3.1</td>\n",
       "      <td>112.5</td>\n",
       "      <td>3.36</td>\n",
       "      <td>5.9</td>\n",
       "      <td>1.0</td>\n",
       "      <td>81</td>\n",
       "    </tr>\n",
       "    <tr>\n",
       "      <td>101</td>\n",
       "      <td>6.4</td>\n",
       "      <td>30.0</td>\n",
       "      <td>0.04</td>\n",
       "      <td>2</td>\n",
       "      <td>3.1</td>\n",
       "      <td>112.5</td>\n",
       "      <td>3.36</td>\n",
       "      <td>5.9</td>\n",
       "      <td>1.0</td>\n",
       "      <td>81</td>\n",
       "    </tr>\n",
       "    <tr>\n",
       "      <td>111</td>\n",
       "      <td>5.7</td>\n",
       "      <td>50.0</td>\n",
       "      <td>0.04</td>\n",
       "      <td>2</td>\n",
       "      <td>3.1</td>\n",
       "      <td>112.5</td>\n",
       "      <td>3.36</td>\n",
       "      <td>5.9</td>\n",
       "      <td>1.0</td>\n",
       "      <td>42</td>\n",
       "    </tr>\n",
       "    <tr>\n",
       "      <td>122</td>\n",
       "      <td>5.6</td>\n",
       "      <td>165.0</td>\n",
       "      <td>0.04</td>\n",
       "      <td>2</td>\n",
       "      <td>3.1</td>\n",
       "      <td>112.5</td>\n",
       "      <td>3.36</td>\n",
       "      <td>5.9</td>\n",
       "      <td>1.0</td>\n",
       "      <td>229</td>\n",
       "    </tr>\n",
       "  </tbody>\n",
       "</table>\n",
       "</div>"
      ],
      "text/plain": [
       "     Magnitude  Depth  Magnitude Error  Magnitude Type  Depth Error  \\\n",
       "55         5.7   53.5             0.04               2          3.1   \n",
       "89         6.4   32.1             0.04               2          3.1   \n",
       "101        6.4   30.0             0.04               2          3.1   \n",
       "111        5.7   50.0             0.04               2          3.1   \n",
       "122        5.6  165.0             0.04               2          3.1   \n",
       "\n",
       "     Azimuthal Gap  Horizontal Distance  Horizontal Error  Root Mean Square  \\\n",
       "55           112.5                 3.36               5.9               1.0   \n",
       "89           112.5                 3.36               5.9               1.0   \n",
       "101          112.5                 3.36               5.9               1.0   \n",
       "111          112.5                 3.36               5.9               1.0   \n",
       "122          112.5                 3.36               5.9               1.0   \n",
       "\n",
       "     Place  \n",
       "55     133  \n",
       "89      81  \n",
       "101     81  \n",
       "111     42  \n",
       "122    229  "
      ]
     },
     "execution_count": 17,
     "metadata": {},
     "output_type": "execute_result"
    }
   ],
   "source": [
    "X.shape\n",
    "X.head()"
   ]
  },
  {
   "cell_type": "code",
   "execution_count": 18,
   "metadata": {
    "scrolled": true
   },
   "outputs": [
    {
     "data": {
      "text/plain": [
       "(1347, 2)"
      ]
     },
     "execution_count": 18,
     "metadata": {},
     "output_type": "execute_result"
    }
   ],
   "source": [
    "y.shape"
   ]
  },
  {
   "cell_type": "code",
   "execution_count": 19,
   "metadata": {},
   "outputs": [],
   "source": [
    "# X = preprocessing.StandardScaler().fit(X).transform(X)\n",
    "# X[0:5]"
   ]
  },
  {
   "cell_type": "code",
   "execution_count": 20,
   "metadata": {},
   "outputs": [
    {
     "name": "stdout",
     "output_type": "stream",
     "text": [
      "(1077, 10)\n",
      "(1077, 2)\n",
      "(270, 10)\n",
      "(270, 2)\n"
     ]
    }
   ],
   "source": [
    "X_train, X_test, y_train, y_test =  train_test_split(X, y, test_size=0.2, random_state=5)\n",
    "print(X_train.shape)\n",
    "print(y_train.shape)\n",
    "print(X_test.shape)\n",
    "print(y_test.shape)"
   ]
  },
  {
   "cell_type": "code",
   "execution_count": 21,
   "metadata": {},
   "outputs": [
    {
     "name": "stdout",
     "output_type": "stream",
     "text": [
      "0.7642734426670634\n"
     ]
    }
   ],
   "source": [
    "reg = RandomForestRegressor()\n",
    "reg.fit(X_train, y_train)\n",
    "preds = reg.predict(X_test)\n",
    "accuracy = reg.score(X_test, y_test)\n",
    "print(accuracy)"
   ]
  },
  {
   "cell_type": "code",
   "execution_count": 22,
   "metadata": {},
   "outputs": [
    {
     "name": "stdout",
     "output_type": "stream",
     "text": [
      "RandomForestRegressor(bootstrap=True, criterion='mse', max_depth=None,\n",
      "                      max_features='auto', max_leaf_nodes=None,\n",
      "                      min_impurity_decrease=0.0, min_impurity_split=None,\n",
      "                      min_samples_leaf=1, min_samples_split=2,\n",
      "                      min_weight_fraction_leaf=0.0, n_estimators=550,\n",
      "                      n_jobs=None, oob_score=False, random_state=None,\n",
      "                      verbose=0, warm_start=False)\n",
      "0.7947744367157392\n"
     ]
    }
   ],
   "source": [
    "parameters = {'n_estimators' : [16, 23, 43, 87, 45, 550, 680]}\n",
    "gs = GridSearchCV(reg, parameters, cv=10)\n",
    "grid_fit = gs.fit(X_train, y_train)\n",
    "best_fit = grid_fit.best_estimator_\n",
    "print(best_fit)\n",
    "y_hat = best_fit.predict(X_test)\n",
    "gs_a = best_fit.score(X_test, y_test)\n",
    "print(gs_a)"
   ]
  },
  {
   "cell_type": "code",
   "execution_count": null,
   "metadata": {},
   "outputs": [],
   "source": []
  }
 ],
 "metadata": {
  "kernelspec": {
   "display_name": "Python 3",
   "language": "python",
   "name": "python3"
  },
  "language_info": {
   "codemirror_mode": {
    "name": "ipython",
    "version": 3
   },
   "file_extension": ".py",
   "mimetype": "text/x-python",
   "name": "python",
   "nbconvert_exporter": "python",
   "pygments_lexer": "ipython3",
   "version": "3.7.4"
  }
 },
 "nbformat": 4,
 "nbformat_minor": 2
}
